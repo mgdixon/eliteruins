{
 "cells": [
  {
   "cell_type": "code",
   "execution_count": 1,
   "metadata": {
    "collapsed": true
   },
   "outputs": [],
   "source": [
    "import json\n",
    "import requests"
   ]
  },
  {
   "cell_type": "markdown",
   "metadata": {},
   "source": [
    "# Using SciPy for distance.\n",
    "\n"
   ]
  },
  {
   "cell_type": "code",
   "execution_count": 2,
   "metadata": {
    "collapsed": true
   },
   "outputs": [],
   "source": [
    "import math \n",
    "\n",
    "import scipy.spatial.distance\n",
    "\n",
    "def ruin_distance(ruin1, ruin2):\n",
    "    return scipy.spatial.distance.euclidean(ruin1['systemCoordinates'], ruin2['systemCoordinates'])\n",
    "\n"
   ]
  },
  {
   "cell_type": "markdown",
   "metadata": {},
   "source": [
    "# Canonn Technology API Documentation is here\n",
    "\n",
    "https://api.canonn.technology/api/docs/#/\n",
    "\n",
    "This section fetches all of the data and provides helper functions"
   ]
  },
  {
   "cell_type": "code",
   "execution_count": 3,
   "metadata": {
    "collapsed": true
   },
   "outputs": [],
   "source": [
    "api_url_base = 'https://api.canonn.technology/api/v1/'\n",
    "\n",
    "#headers = {'Content-Type': 'application/json'}\n"
   ]
  },
  {
   "cell_type": "code",
   "execution_count": 4,
   "metadata": {
    "collapsed": true
   },
   "outputs": [],
   "source": [
    "api_url_base = 'https://api.canonn.technology/api/v1/'\n",
    "\n",
    "def get_from_site(url_ext):\n",
    "    \"\"\"Grabs data from the API / url_ext\n",
    "    Returns None if 200. not much other error handling \n",
    "    \"\"\"\n",
    "    api_url = '{0}{1}'.format(api_url_base,url_ext)\n",
    "\n",
    "    response = requests.get(api_url)\n",
    "\n",
    "    if response.status_code == 200:\n",
    "        return json.loads(response.content.decode('utf-8'))\n",
    "    else:\n",
    "        return None"
   ]
  },
  {
   "cell_type": "code",
   "execution_count": 5,
   "metadata": {
    "collapsed": true
   },
   "outputs": [],
   "source": [
    "def get_obelisks():\n",
    "    return get_from_site('maps/scandata')\n",
    "\n",
    "def get_ruins_sites():\n",
    "    return get_from_site('maps/systemoverview')\n",
    "\n",
    "def get_categories():\n",
    "    return get_from_site('codex/categories')\n",
    "\n",
    "def get_codex_data():\n",
    "    return get_from_site('codex/data')\n",
    "\n",
    "def get_ruin_types():\n",
    "    return get_from_site('ruins/types')\n",
    "\n",
    "def get_all_ruins():\n",
    "    return get_from_site('ruinsites')"
   ]
  },
  {
   "cell_type": "code",
   "execution_count": 6,
   "metadata": {
    "collapsed": true
   },
   "outputs": [],
   "source": [
    "def get_ruin_info(id):\n",
    "    return get_from_site('maps/ruininfo/%d' % id) \n",
    "\n",
    "def get_active_obelisks(id):\n",
    "    return get_from_site('ruinsites/%d/activeobelisks' % id)"
   ]
  },
  {
   "cell_type": "code",
   "execution_count": 7,
   "metadata": {
    "collapsed": true
   },
   "outputs": [],
   "source": [
    "ruin_types = get_ruin_types()\n",
    "ruins = get_ruins_sites()\n",
    "obelisks = get_obelisks()\n",
    "codex_data = get_codex_data()\n",
    "\n",
    "# all_codex_data is the set of all codex data that we need to find \n",
    "# in a set so we can subtract from it along the way to find what's left\n",
    "all_codex_data = set([x['id'] for x in codex_data])\n",
    "\n",
    "all_ruins = get_all_ruins()"
   ]
  },
  {
   "cell_type": "code",
   "execution_count": 8,
   "metadata": {},
   "outputs": [],
   "source": [
    "# Need to filter out all ruin id's that are >10000 - or just drop the last 3 that are special\n",
    "# Could also filter out edsmBodyLink = None \n",
    "# Risky -- says that no ruin will be exactly at longitude 0.0 .. probably good enough \n",
    "\n",
    "all_ruins_trimmed = [x for x in all_ruins if (x['longitude'] != 0.0)]\n"
   ]
  },
  {
   "cell_type": "code",
   "execution_count": 16,
   "metadata": {
    "collapsed": true
   },
   "outputs": [],
   "source": [
    "# Long running command - probably should rate limit the get API.\n",
    "all_ruin_info = [get_ruin_info(ruin['id']) for ruin in all_ruins_trimmed]"
   ]
  },
  {
   "cell_type": "code",
   "execution_count": 19,
   "metadata": {
    "collapsed": true
   },
   "outputs": [],
   "source": [
    "# Long running command\n",
    "all_obelisk_info = [get_active_obelisks(ruin['id']) for ruin in all_ruins_trimmed]"
   ]
  },
  {
   "cell_type": "code",
   "execution_count": 63,
   "metadata": {},
   "outputs": [],
   "source": [
    "def get_obelisk_group_codex_data(id):\n",
    "    \"\"\"Relies upon all_obelisk_info being populated\n",
    "    returns the sorted set of codex data that this particular obelisk group handles\n",
    "    \"\"\"\n",
    "    obelisk_group = all_obelisk_info[id]\n",
    "    if obelisk_group != None and len(obelisk_group) > 0:\n",
    "        return sorted(set([x['codexdataId'] for x in obelisk_group if (x['isBroken'] == False and x['codexdataId'] != None)]))\n",
    "    else:\n",
    "        return set([])"
   ]
  },
  {
   "cell_type": "code",
   "execution_count": 65,
   "metadata": {},
   "outputs": [
    {
     "name": "stdout",
     "output_type": "stream",
     "text": [
      "1\n",
      "[8, 27, 28, 54, 55, 88, 90, 91]\n",
      "2\n",
      "[5, 6, 20, 21, 24, 25, 40, 42, 43, 44]\n",
      "3\n",
      "[29, 32, 52, 54, 68, 90, 93]\n",
      "4\n",
      "[1, 2, 4, 22, 23, 24, 25, 42, 44, 64, 67, 84, 85]\n",
      "5\n",
      "[26, 48, 51, 71, 72, 88, 90, 91]\n",
      "6\n",
      "[2, 6, 20, 21, 23, 40, 41, 44, 63, 64, 65, 66, 84, 85, 86, 87]\n",
      "7\n",
      "[26, 27, 31, 47, 54, 88, 90, 91]\n",
      "8\n",
      "[13, 14, 15, 17, 18, 33, 34, 35, 36, 38, 56, 57, 59, 60, 78, 95, 98, 99, 100]\n",
      "9\n",
      "[8, 27, 49, 50, 73, 74, 88, 90, 94]\n",
      "10\n",
      "[23, 24, 25, 40, 42, 43, 44, 45, 62, 63, 64, 65, 82, 83, 84, 85, 86]\n",
      "11\n",
      "[2, 3, 6, 20, 22, 23, 24, 25, 40, 42, 45, 62, 63, 66, 82, 83, 84, 87]\n",
      "12\n",
      "[3, 4, 6, 21, 22, 25, 45, 46, 63, 64, 65, 84, 86]\n",
      "13\n",
      "[14, 16, 17, 18, 19, 35, 36, 37, 38, 56, 57, 59, 60, 95, 96, 97, 99, 100, 101]\n",
      "14\n",
      "[13, 14, 19, 34, 37, 38, 39, 56, 59, 75, 76, 78, 79, 81, 97, 98, 99]\n",
      "15\n",
      "[15, 17, 35, 36, 37, 56, 59, 95, 96, 97, 99, 100, 101]\n",
      "16\n",
      "[28, 31, 48, 49, 53, 89, 93, 94]\n",
      "17\n",
      "[29, 48, 49, 53, 72, 89, 92, 94]\n",
      "18\n",
      "[29, 47, 51, 52, 53, 55, 73, 88, 90]\n",
      "19\n",
      "[15, 16, 38, 39, 56, 58, 80, 98]\n",
      "20\n",
      "[8, 11, 12, 26, 49, 53, 88, 90, 93, 94]\n",
      "21\n",
      "[2, 5, 20, 22, 43, 44, 46, 61, 62, 64, 66, 67]\n",
      "22\n",
      "[1, 3, 22, 23, 24, 40, 43, 44, 82, 84, 85, 86, 87]\n",
      "23\n",
      "[10, 30, 31, 47, 51, 53, 55, 93]\n",
      "24\n",
      "[7, 8, 9, 28, 29, 32, 69, 70, 72, 88, 90, 92]\n",
      "25\n",
      "[12, 52, 53, 54, 72, 73, 89, 91, 93, 94]\n",
      "26\n",
      "[13, 14, 17, 33, 34, 35, 37, 38, 39, 56, 57, 59, 75, 76, 80, 81, 95, 96, 98, 99, 100]\n",
      "27\n",
      "[29, 30, 47, 53, 68, 69, 88, 89, 93]\n",
      "28\n",
      "[1, 5, 6, 22, 24, 25, 42, 44, 46, 82, 83, 84, 85]\n",
      "29\n",
      "[16, 17, 36, 37, 38, 56, 57, 59, 60, 75, 76, 79, 80, 95, 96]\n",
      "30\n",
      "[15, 17, 33, 35, 59, 60, 78, 79, 80, 95, 96, 98, 100, 101]\n",
      "31\n",
      "[13, 15, 18, 33, 38, 59, 60, 76, 77, 79, 81, 95, 98, 99]\n",
      "32\n",
      "[29, 32, 51, 54, 55, 90, 93, 94]\n",
      "33\n",
      "[13, 19, 33, 39, 56, 60, 76, 77, 78, 79]\n",
      "34\n",
      "[3, 4, 21, 22, 23, 24, 40, 44, 45, 61, 66, 67, 82, 83, 84, 85, 86, 87]\n",
      "35\n",
      "[15, 19, 36, 39, 56, 57, 59, 79, 96, 97, 98, 99]\n",
      "36\n",
      "[5, 23, 25, 41, 43, 45, 85, 86]\n",
      "37\n",
      "[1, 2, 20, 22, 23, 24, 40, 41, 42, 61, 65, 66, 67, 82, 83, 84, 86, 87]\n",
      "38\n",
      "[28, 30, 48, 52, 92, 93]\n",
      "39\n",
      "[28, 31, 53, 54, 91, 92, 94]\n",
      "40\n",
      "[31, 52, 68, 91, 92, 94]\n",
      "41\n",
      "[3, 24, 25, 44, 46, 61, 65, 67, 83, 84]\n",
      "42\n",
      "[1, 4, 20, 21, 41, 42, 43, 44, 82, 83, 85, 87]\n",
      "43\n",
      "[1, 2, 3, 4, 6, 21, 22, 23, 24, 25, 40, 41, 43, 45, 46, 62, 66, 67, 82, 83, 84, 85]\n",
      "44\n",
      "[48, 52, 69, 70, 71, 88, 89, 90, 91, 93, 94]\n",
      "45\n",
      "[3, 5, 6, 40, 41, 42, 43, 46, 61, 63, 64, 65, 67, 84, 85]\n",
      "46\n",
      "[1, 3, 40, 43, 44, 62, 64, 66, 82, 84]\n",
      "47\n",
      "[3, 5, 23, 41, 44, 45, 62, 63, 64, 66, 67, 82, 83, 84, 85]\n",
      "48\n",
      "[51, 53, 54, 68, 69, 71, 88, 90, 91, 92, 93, 94]\n",
      "49\n",
      "[3, 5, 6, 20, 21, 22, 23, 41, 43, 44, 63, 64, 66, 82, 84, 86]\n",
      "50\n",
      "[2, 4, 21, 22, 23, 42, 45, 62, 64, 67, 82, 83, 86, 87]\n",
      "51\n",
      "[20, 21, 22, 24, 25, 40, 41, 42, 43, 44, 62, 63, 64, 65, 67, 82, 83, 84, 86]\n",
      "52\n",
      "[5, 26, 27, 31, 51, 53, 88, 94]\n",
      "53\n",
      "[21, 22, 24, 25, 40, 41, 42, 43, 45, 61, 62, 63, 64, 67, 82, 83, 86]\n",
      "54\n",
      "[3, 22, 23, 42, 44, 46, 63, 64, 66, 83, 84, 85, 86]\n",
      "55\n",
      "[11, 12, 27, 32, 50, 68, 72, 88, 90, 94]\n",
      "56\n",
      "[15, 16, 17, 18, 35, 37, 39, 57, 58, 81, 95, 96, 97, 98]\n",
      "57\n",
      "[28, 30, 49, 52, 54, 88, 90]\n",
      "58\n",
      "[14, 19, 33, 34, 39, 56, 58, 60, 76, 77, 78, 80, 101]\n",
      "59\n",
      "[5, 6, 20, 21, 22, 25, 42, 43, 44, 63, 64, 65, 86]\n",
      "60\n",
      "[47, 53, 54, 93]\n",
      "61\n",
      "[15, 16, 17, 33, 35, 37, 39, 57, 59, 60, 96, 97, 98, 99, 100, 101]\n",
      "62\n",
      "[4, 5, 22, 40, 41, 44, 45, 61, 62, 64, 66, 82, 83, 84, 87]\n",
      "63\n",
      "[14, 15, 35, 37, 57, 59, 60, 97, 98, 99]\n",
      "64\n",
      "[4, 5, 21, 22, 24, 25, 42, 45, 61, 62, 63, 64, 65, 67]\n",
      "65\n",
      "[2, 3, 4, 6, 22, 24, 25, 42, 43, 64, 65, 66, 82, 85, 87]\n",
      "66\n",
      "[29, 48, 50, 52, 53, 54, 55, 70, 71, 73, 74, 94]\n",
      "67\n",
      "[47, 53, 54, 93]\n",
      "68\n",
      "[13, 14, 15, 33, 38, 39, 59, 60, 98, 101]\n",
      "69\n",
      "[7, 12, 30, 32, 48, 54, 55, 88, 90, 91]\n",
      "70\n",
      "[13, 19, 34, 38, 39, 56, 58, 75, 78, 79, 96, 97]\n",
      "71\n",
      "[13, 15, 16, 19, 34, 35, 39, 57, 58, 59, 60, 75, 76, 80, 81, 97, 98, 99]\n",
      "72\n",
      "[2, 6, 23, 24, 44, 46, 64, 66, 67, 82, 84]\n",
      "73\n",
      "[28, 68, 70, 90, 92, 94]\n",
      "74\n",
      "[10, 12, 32, 54, 55, 71, 89, 92, 93, 94]\n",
      "75\n",
      "[14, 19, 33, 34, 35, 37, 56, 57, 58, 75, 76, 80, 81, 97, 98, 99, 101]\n",
      "76\n",
      "[28, 29, 32, 68, 70, 90, 92, 94]\n",
      "77\n",
      "[10, 47, 49, 52, 54, 88, 89]\n",
      "78\n",
      "[28, 31, 52, 54, 72, 73, 88, 92]\n",
      "79\n",
      "[34, 35, 37, 57, 59, 60, 75, 77, 78, 81, 95, 98, 99, 101]\n",
      "80\n",
      "[15, 17, 18, 19, 33, 35, 37, 57, 58, 60, 95, 97, 98, 100, 101]\n",
      "81\n",
      "[13, 19, 34, 37, 38, 56, 57, 58, 60, 76, 78, 79, 80, 96, 97, 98, 99]\n",
      "82\n",
      "[17, 18, 35, 36, 37, 38, 57, 60, 76, 77, 78, 79, 80, 96, 99, 100]\n",
      "83\n",
      "[14, 16, 57, 75, 95, 96, 97, 99, 100, 101]\n",
      "84\n",
      "[13, 17, 19, 33, 37, 39, 56, 60, 75, 76, 77, 80, 95, 96, 97, 99, 100, 101]\n",
      "85\n",
      "[1, 2, 3, 4, 6, 24, 40, 43, 46, 61, 64, 65, 84, 85]\n",
      "86\n",
      "[13, 15, 19, 33, 35, 37, 39, 56, 57, 58, 75, 76, 78, 79, 80, 99, 101]\n",
      "87\n",
      "[1, 20, 22, 24, 43, 44, 61, 62, 64, 67, 82, 83, 84, 85]\n",
      "88\n",
      "[11, 12, 26, 31, 47, 49, 50, 51, 55, 91, 93]\n",
      "89\n",
      "[3, 4, 5, 6, 21, 42, 44, 61, 62, 63, 67]\n",
      "90\n",
      "[28, 29, 70, 92, 93, 94]\n",
      "91\n",
      "[16, 17, 34, 35, 36, 37, 38, 59, 60, 77, 78, 79, 81, 95, 98, 100]\n",
      "92\n",
      "[15, 17, 18, 19, 33, 35, 36, 37, 56, 57, 58, 80, 95, 96, 97, 98, 99, 100]\n",
      "93\n",
      "[7, 8, 9, 52, 54, 91, 93, 94]\n",
      "94\n",
      "[27, 28, 48, 51, 55, 70, 71, 88, 91]\n",
      "95\n",
      "[8, 11, 27, 29, 30, 49, 50, 73, 90, 91]\n",
      "96\n",
      "[2, 4, 23, 24, 25, 42, 43, 44, 45, 83, 84, 86]\n",
      "97\n",
      "[2, 3, 4, 23, 40, 41, 42, 44, 45, 62, 65, 82, 83, 84, 85, 86, 87]\n",
      "98\n",
      "[12, 50, 53, 69, 72, 88, 90, 92]\n",
      "99\n",
      "[7, 8, 9, 29, 30, 50, 68, 70, 92, 94]\n",
      "100\n",
      "[21, 22, 25, 42, 43, 45, 62, 64, 66, 67, 83, 84, 85, 86]\n",
      "101\n",
      "[8, 29, 49, 55, 70, 88, 90, 91, 94]\n",
      "102\n",
      "[5, 6, 24, 25, 43, 44, 46, 61, 62, 65, 66, 67]\n",
      "103\n",
      "[3, 6, 20, 22, 23, 24, 25, 40, 42, 46, 85, 87]\n",
      "104\n",
      "[13, 18, 19, 33, 35, 38, 39, 58, 60, 76, 96, 97, 99, 101]\n",
      "105\n",
      "[2, 3, 20, 24, 25, 42, 43, 63, 66, 67, 82, 86, 87]\n",
      "106\n",
      "[35, 37, 39, 56, 60, 75, 76, 77, 80, 95, 96, 97, 101]\n",
      "107\n",
      "[1, 2, 3, 5, 20, 22, 23, 40, 41, 44, 61, 63, 66, 82, 84, 85, 87]\n",
      "108\n",
      "[4, 5, 20, 24, 40, 44, 46, 61, 63, 65, 82, 84, 86]\n",
      "109\n",
      "[13, 14, 17, 18, 33, 35, 38, 56, 57, 58, 75, 77, 78, 79, 80, 95, 98, 99, 101]\n",
      "110\n",
      "[2, 3, 6, 20, 23, 40, 41, 42, 46, 62, 63, 65, 85, 86, 87]\n",
      "111\n",
      "[1, 4, 21, 22, 40, 41, 43, 45, 66, 82, 84, 86]\n",
      "112\n",
      "[31, 32, 71, 72, 73, 92, 94]\n",
      "113\n",
      "[13, 17, 18, 34, 35, 36, 38, 39, 56, 59, 95, 96, 97, 98, 99, 100, 101]\n",
      "114\n",
      "[6, 10, 28, 29, 54, 55, 73, 74, 88, 89, 90, 92, 93, 94]\n",
      "115\n",
      "[13, 33, 35, 36, 37, 56, 58, 60, 95, 96, 97, 101]\n",
      "116\n",
      "[7, 8, 11, 26, 48, 49, 52, 53, 88, 94]\n",
      "117\n",
      "[28, 30, 47, 52, 72, 73, 90, 93]\n",
      "118\n",
      "[16, 18, 34, 35, 36, 37, 38, 57, 59, 60, 75, 76, 78, 79, 95, 98, 99, 100]\n",
      "119\n",
      "[26, 29, 32, 89, 90, 94]\n",
      "120\n",
      "[15, 17, 33, 35, 36, 37, 57, 58, 79, 96, 98, 100, 101]\n",
      "121\n",
      "[1, 2, 4, 5, 20, 23, 41, 45, 61, 63, 67, 83, 84, 85, 87]\n",
      "122\n",
      "[15, 16, 19, 33, 36, 39, 56, 58, 77, 78, 80, 81, 95, 96, 97, 98, 100, 101]\n",
      "123\n",
      "[13, 18, 38, 57, 58, 76, 95, 96, 101]\n",
      "124\n",
      "[1, 2, 5, 20, 21, 22, 23, 25, 45, 62, 63, 67, 82, 84, 87]\n",
      "125\n",
      "[1, 5, 20, 21, 22, 41, 42, 46, 63, 66, 67, 82, 83, 84, 85, 86, 87]\n",
      "126\n",
      "[15, 17, 35, 37, 57, 59, 60, 95, 97, 98, 101]\n",
      "127\n",
      "[33, 35, 37, 56, 59, 60, 81, 95, 97, 98, 101]\n",
      "128\n",
      "[9, 11, 49, 50, 55, 91, 92, 93]\n",
      "129\n",
      "[28, 31, 50, 53, 55, 88, 91]\n",
      "130\n",
      "[13, 14, 17, 34, 35, 38, 60, 76, 78, 79, 80, 81, 95, 98, 99, 101]\n",
      "131\n",
      "[9, 10, 27, 30, 51, 52, 89, 90, 94]\n",
      "132\n",
      "[1, 2, 4, 6, 40, 42, 45, 61, 63, 64, 82, 86]\n",
      "133\n",
      "[10, 29, 50, 52, 73, 74, 89, 93, 94]\n",
      "134\n",
      "[13, 16, 34, 36, 37, 57, 59, 60, 95, 96, 97]\n",
      "135\n",
      "[5, 8, 11, 12, 27, 31, 32, 51, 52, 53, 54, 94]\n",
      "136\n",
      "[1, 4, 5, 20, 21, 22, 23, 25, 41, 42, 43, 44, 82, 83, 84, 86]\n",
      "137\n",
      "[8, 10, 29, 31, 89, 92, 93, 94]\n",
      "138\n",
      "[14, 15, 19, 34, 35, 36, 38, 56, 57, 75, 76, 77, 78, 79, 96, 97, 98, 99, 101]\n",
      "139\n",
      "[29, 50, 52, 53, 55, 70, 72, 91, 93]\n",
      "140\n",
      "[13, 14, 15, 19, 33, 38, 58, 76, 77, 78, 95, 97]\n",
      "141\n",
      "[36, 38, 39, 56, 58, 60, 96, 97, 99, 100, 101]\n",
      "142\n",
      "[11, 26, 27, 31, 48, 53, 55, 73, 89, 90]\n",
      "143\n",
      "[1, 6, 44, 45, 46, 62, 65, 66, 67, 82, 83, 85]\n",
      "144\n",
      "[47, 52, 72, 88, 89, 90, 93, 94]\n",
      "145\n",
      "[16, 35, 36, 37, 38, 56, 58, 59, 80, 96, 98, 100, 101]\n",
      "146\n",
      "[13, 33, 35, 36, 37, 38, 56, 58, 59, 75, 95, 96, 97, 101]\n",
      "147\n",
      "[34, 35, 36, 37, 38, 57, 78, 79, 80, 95, 98, 101]\n",
      "148\n",
      "[13, 15, 17, 18, 34, 35, 36, 37, 38, 56, 57, 75, 76, 77, 79, 80, 95, 98, 100, 101]\n",
      "149\n",
      "[5, 7, 29, 48, 88, 90, 93]\n",
      "150\n",
      "[16, 17, 18, 19, 35, 36, 38, 56, 57, 59, 60, 96, 97, 99, 100, 101]\n",
      "151\n",
      "[10, 26, 27, 29, 32, 54, 71, 72, 73, 74, 88, 94]\n",
      "152\n",
      "[13, 18, 33, 34, 35, 36, 37, 38, 58, 81, 95, 96, 100, 101]\n",
      "153\n",
      "[23, 24, 25, 41, 42, 46, 61, 63, 65, 66, 84, 85]\n",
      "154\n",
      "[33, 35, 38, 39, 57, 58, 76, 77, 79, 81, 98, 99, 101]\n",
      "155\n",
      "[5, 6, 21, 22, 23, 25, 42, 43, 44, 45, 63, 64, 67, 86]\n",
      "156\n",
      "[16, 18, 33, 35, 36, 38, 39, 57, 59, 75, 76, 77, 95, 96, 97, 99, 101]\n",
      "157\n",
      "[3, 20, 22, 23, 40, 41, 45, 62, 66, 83, 84, 85, 87]\n",
      "158\n",
      "[1, 2, 5, 6, 20, 21, 22, 23, 25, 41, 46, 82, 84, 85, 86]\n",
      "159\n",
      "[6, 29, 47, 50, 53, 54, 91, 92, 93, 94]\n",
      "160\n",
      "[2, 3, 21, 23, 44, 61, 62, 63, 64, 66, 86, 87]\n",
      "161\n",
      "[9, 47, 88, 89, 90, 92]\n",
      "162\n",
      "[5, 27, 28, 48, 68, 73, 89, 90, 92, 93]\n",
      "163\n",
      "[68, 69, 71, 72, 74, 90, 93]\n",
      "164\n",
      "[2, 6, 23, 24, 25, 43, 45, 61, 62, 64, 83, 86, 87]\n",
      "165\n",
      "[13, 14, 19, 33, 34, 36, 37, 39, 56, 57, 76, 77, 78, 79, 80, 97, 98, 99]\n",
      "166\n",
      "[8, 9, 11, 49, 50, 54, 74, 90, 91, 92, 93]\n",
      "167\n",
      "[12, 49, 52, 55, 88, 90, 92, 93]\n",
      "168\n",
      "[15, 19, 33, 37, 38, 39, 56, 57, 58, 99, 101]\n",
      "169\n",
      "[7, 29, 32, 53, 55, 71, 90, 91, 92, 93]\n",
      "170\n",
      "[13, 14, 17, 18, 35, 36, 57, 59, 96, 97, 99, 100, 101]\n",
      "171\n",
      "[1, 3, 20, 21, 23, 44, 45, 46, 62, 63, 66, 67, 82, 85, 86, 87]\n",
      "172\n",
      "[27, 29, 31, 32, 49, 53, 55, 68, 73, 74, 88, 90, 93, 94]\n",
      "173\n",
      "[13, 15, 19, 36, 38, 56, 58, 60, 75, 77, 95, 97, 99, 101]\n",
      "174\n",
      "[48, 52, 68, 70, 88, 89, 90, 92, 93, 94]\n",
      "175\n",
      "[27, 29, 32, 47, 48, 50, 52, 90, 92, 93, 94]\n",
      "176\n",
      "[4, 5, 6, 21, 22, 23, 25, 45, 62, 64, 85, 86]\n",
      "177\n",
      "[4, 5, 6, 20, 22, 23, 24, 41, 43, 44, 45, 61, 63, 64, 66, 67]\n",
      "178\n",
      "[26, 27, 28, 30, 32, 53, 88, 94]\n",
      "179\n",
      "[1, 5, 6, 22, 23, 25, 41, 43, 44, 46, 82, 83, 85]\n",
      "180\n",
      "[13, 19, 33, 34, 39, 56, 58, 60, 97, 99, 101]\n",
      "181\n",
      "[8, 11, 29, 32, 50, 54, 55, 90]\n",
      "182\n",
      "[21, 22, 24, 25, 40, 42, 44, 82, 83, 84]\n",
      "183\n",
      "[6, 20, 22, 23, 25, 46, 62, 65, 66, 67, 83, 85, 87]\n",
      "184\n",
      "[13, 14, 16, 34, 37, 39, 60, 95, 98]\n",
      "185\n",
      "[1, 2, 20, 21, 23, 41, 42, 63, 64, 65, 82, 84, 86, 87]\n",
      "186\n",
      "[16, 17, 35, 36, 37, 56, 59, 75, 76, 79, 81, 95, 96, 100]\n",
      "187\n",
      "set()\n",
      "188\n",
      "[13, 14, 16, 34, 35, 36, 38, 56, 57, 75, 76, 77, 78, 79, 81, 95, 97, 99, 100, 101]\n",
      "189\n",
      "[16, 17, 35, 36, 37, 56, 57, 75, 79, 80, 81, 95, 96, 100]\n",
      "190\n",
      "[3, 4, 6, 21, 23, 42, 43, 44, 45, 61, 63, 66, 82, 85, 86, 87]\n",
      "191\n",
      "[14, 15, 18, 19, 33, 36, 38, 39, 56, 57, 58, 60, 76, 78, 79, 80, 81, 97, 98, 99, 101]\n",
      "192\n",
      "[5, 26, 28, 29, 31, 50, 51, 52, 54, 88, 90, 94]\n",
      "193\n",
      "[13, 14, 15, 33, 34, 36, 37, 38, 56, 57, 58, 59, 75, 79, 95, 97, 98, 99, 101]\n",
      "194\n",
      "[17, 18, 33, 35, 36, 37, 38, 39, 57, 59, 60, 76, 77, 79, 80, 81, 95, 100, 101]\n",
      "195\n",
      "[2, 3, 20, 22, 24, 25, 44, 45, 46, 61, 62, 64, 66, 67, 82, 83, 85]\n",
      "196\n",
      "[2, 3, 4, 5, 20, 21, 23, 25, 40, 41, 64, 66, 67, 85, 86, 87]\n",
      "197\n",
      "[27, 29, 68, 69, 71, 72, 74, 93]\n",
      "198\n",
      "[1, 3, 4, 20, 25, 41, 42, 43, 44, 61, 65, 67, 82, 85, 86]\n",
      "199\n",
      "[13, 14, 16, 17, 36, 37, 75, 79, 80, 81, 95, 96, 97, 101]\n",
      "200\n",
      "[8, 11, 12, 26, 32, 49, 51, 53, 55, 89, 93, 94]\n",
      "201\n",
      "[1, 4, 23, 24, 40, 41, 43, 45, 61, 62, 63, 65, 66, 67, 82, 86, 87]\n",
      "202\n",
      "[53, 54, 68, 69, 90, 93]\n",
      "203\n",
      "[13, 16, 19, 33, 35, 37, 39, 56, 58, 60, 76, 78, 79, 80, 95, 96, 97, 99, 101]\n",
      "204\n",
      "[1, 4, 5, 6, 22, 25, 40, 42, 82, 83, 85]\n",
      "205\n",
      "[21, 23, 25, 42, 44, 45, 63, 64, 65, 82, 83, 86]\n",
      "206\n",
      "[1, 6, 25, 41, 63, 64, 65, 66, 82, 83, 86]\n",
      "207\n",
      "[1, 5, 20, 21, 22, 23, 41, 42, 63, 65, 67, 82, 85, 86]\n",
      "208\n",
      "[27, 30, 47, 49, 50, 52, 90, 92, 93]\n",
      "209\n",
      "[26, 27, 31, 32, 47, 48, 52, 90, 94]\n",
      "210\n",
      "[16, 17, 35, 36, 37, 38, 39, 56, 57, 58, 95, 96, 100]\n",
      "211\n",
      "[13, 16, 33, 35, 36, 37, 56, 58, 95, 96]\n",
      "212\n",
      "[13, 18, 36, 37, 38, 58, 59, 76, 97, 98]\n",
      "213\n",
      "[6, 20, 21, 22, 25, 41, 42, 44, 83, 84, 86]\n",
      "214\n",
      "[2, 3, 4, 20, 22, 23, 40, 41, 45, 61, 62, 65, 67, 83, 84, 87]\n",
      "215\n",
      "[34, 35, 36, 37, 38, 57, 59, 97, 98, 100, 101]\n",
      "216\n",
      "[14, 15, 18, 33, 34, 35, 36, 37, 39, 58, 59, 60, 95, 96, 98]\n",
      "217\n",
      "[15, 18, 35, 37, 57, 60, 76, 95, 97, 101]\n",
      "218\n",
      "[28, 32, 49, 54, 55, 72, 74, 88, 90, 94]\n",
      "219\n",
      "[1, 4, 22, 24, 25, 41, 42, 43, 61, 62, 63, 64, 65, 67, 82, 83, 86]\n",
      "220\n",
      "[14, 18, 37, 59, 60, 78, 79, 80, 81, 100, 101]\n",
      "221\n",
      "[6, 29, 32, 52, 68, 69, 88, 89]\n",
      "222\n",
      "[2, 4, 20, 24, 40, 44, 46, 61, 65, 66, 67, 82, 83, 84]\n",
      "223\n",
      "[20, 21, 24, 42, 43, 44, 83, 86, 87]\n",
      "224\n",
      "[13, 14, 33, 36, 38, 39, 57, 58, 60, 76, 77, 78, 79, 81, 96, 98]\n",
      "225\n",
      "[15, 17, 18, 19, 33, 36, 37, 56, 59, 78, 95, 97, 99, 100, 101]\n",
      "226\n"
     ]
    },
    {
     "ename": "IndexError",
     "evalue": "list index out of range",
     "output_type": "error",
     "traceback": [
      "\u001b[0;31m---------------------------------------------------------------------------\u001b[0m",
      "\u001b[0;31mIndexError\u001b[0m                                Traceback (most recent call last)",
      "\u001b[0;32m<ipython-input-65-d6d619b27e87>\u001b[0m in \u001b[0;36m<module>\u001b[0;34m()\u001b[0m\n\u001b[1;32m      1\u001b[0m \u001b[0;32mfor\u001b[0m \u001b[0mi\u001b[0m \u001b[0;32min\u001b[0m \u001b[0mall_ruins_trimmed\u001b[0m\u001b[0;34m:\u001b[0m\u001b[0;34m\u001b[0m\u001b[0m\n\u001b[1;32m      2\u001b[0m     \u001b[0mprint\u001b[0m\u001b[0;34m(\u001b[0m\u001b[0mi\u001b[0m\u001b[0;34m[\u001b[0m\u001b[0;34m'id'\u001b[0m\u001b[0;34m]\u001b[0m\u001b[0;34m)\u001b[0m\u001b[0;34m\u001b[0m\u001b[0m\n\u001b[0;32m----> 3\u001b[0;31m     \u001b[0mprint\u001b[0m\u001b[0;34m(\u001b[0m\u001b[0mget_obelisk_group_codex_data\u001b[0m\u001b[0;34m(\u001b[0m\u001b[0mi\u001b[0m\u001b[0;34m[\u001b[0m\u001b[0;34m'id'\u001b[0m\u001b[0;34m]\u001b[0m\u001b[0;34m)\u001b[0m\u001b[0;34m)\u001b[0m\u001b[0;34m\u001b[0m\u001b[0m\n\u001b[0m\u001b[1;32m      4\u001b[0m \u001b[0;31m#    print(get_obelisk_group_codex_data(i['id']))\u001b[0m\u001b[0;34m\u001b[0m\u001b[0;34m\u001b[0m\u001b[0m\n",
      "\u001b[0;32m<ipython-input-63-e5f4dbed3b16>\u001b[0m in \u001b[0;36mget_obelisk_group_codex_data\u001b[0;34m(id)\u001b[0m\n\u001b[1;32m      3\u001b[0m     \u001b[0mreturns\u001b[0m \u001b[0mthe\u001b[0m \u001b[0msorted\u001b[0m \u001b[0mset\u001b[0m \u001b[0mof\u001b[0m \u001b[0mcodex\u001b[0m \u001b[0mdata\u001b[0m \u001b[0mthat\u001b[0m \u001b[0mthis\u001b[0m \u001b[0mparticular\u001b[0m \u001b[0mobelisk\u001b[0m \u001b[0mgroup\u001b[0m \u001b[0mhandles\u001b[0m\u001b[0;34m\u001b[0m\u001b[0m\n\u001b[1;32m      4\u001b[0m     \"\"\"\n\u001b[0;32m----> 5\u001b[0;31m     \u001b[0mobelisk_group\u001b[0m \u001b[0;34m=\u001b[0m \u001b[0mall_obelisk_info\u001b[0m\u001b[0;34m[\u001b[0m\u001b[0mid\u001b[0m\u001b[0;34m]\u001b[0m\u001b[0;34m\u001b[0m\u001b[0m\n\u001b[0m\u001b[1;32m      6\u001b[0m     \u001b[0;32mif\u001b[0m \u001b[0mobelisk_group\u001b[0m \u001b[0;34m!=\u001b[0m \u001b[0;32mNone\u001b[0m \u001b[0;32mand\u001b[0m \u001b[0mlen\u001b[0m\u001b[0;34m(\u001b[0m\u001b[0mobelisk_group\u001b[0m\u001b[0;34m)\u001b[0m \u001b[0;34m>\u001b[0m \u001b[0;36m0\u001b[0m\u001b[0;34m:\u001b[0m\u001b[0;34m\u001b[0m\u001b[0m\n\u001b[1;32m      7\u001b[0m         \u001b[0;32mreturn\u001b[0m \u001b[0msorted\u001b[0m\u001b[0;34m(\u001b[0m\u001b[0mset\u001b[0m\u001b[0;34m(\u001b[0m\u001b[0;34m[\u001b[0m\u001b[0mx\u001b[0m\u001b[0;34m[\u001b[0m\u001b[0;34m'codexdataId'\u001b[0m\u001b[0;34m]\u001b[0m \u001b[0;32mfor\u001b[0m \u001b[0mx\u001b[0m \u001b[0;32min\u001b[0m \u001b[0mobelisk_group\u001b[0m \u001b[0;32mif\u001b[0m \u001b[0;34m(\u001b[0m\u001b[0mx\u001b[0m\u001b[0;34m[\u001b[0m\u001b[0;34m'isBroken'\u001b[0m\u001b[0;34m]\u001b[0m \u001b[0;34m==\u001b[0m \u001b[0;32mFalse\u001b[0m \u001b[0;32mand\u001b[0m \u001b[0mx\u001b[0m\u001b[0;34m[\u001b[0m\u001b[0;34m'codexdataId'\u001b[0m\u001b[0;34m]\u001b[0m \u001b[0;34m!=\u001b[0m \u001b[0;32mNone\u001b[0m\u001b[0;34m)\u001b[0m\u001b[0;34m]\u001b[0m\u001b[0;34m)\u001b[0m\u001b[0;34m)\u001b[0m\u001b[0;34m\u001b[0m\u001b[0m\n",
      "\u001b[0;31mIndexError\u001b[0m: list index out of range"
     ]
    }
   ],
   "source": [
    "# Off by 1...\n",
    "for i in all_ruins_trimmed:\n",
    "    print(i['id'])\n",
    "    print(get_obelisk_group_codex_data(i['id']))\n",
    "#    print(get_obelisk_group_codex_data(i['id']))"
   ]
  },
  {
   "cell_type": "code",
   "execution_count": 67,
   "metadata": {},
   "outputs": [
    {
     "name": "stdout",
     "output_type": "stream",
     "text": [
      "226\n"
     ]
    }
   ],
   "source": [
    "print(len(all_obelisk_info))"
   ]
  },
  {
   "cell_type": "code",
   "execution_count": 24,
   "metadata": {},
   "outputs": [
    {
     "name": "stdout",
     "output_type": "stream",
     "text": [
      "[{'id': 38, 'obeliskgroupId': 2, 'number': 18, 'isBroken': False, 'codexdataId': 20, 'isVerified': True, 'created': '2017-03-19T20:59:30', 'updated': '2017-07-11T18:21:04'}, {'id': 40, 'obeliskgroupId': 2, 'number': 20, 'isBroken': False, 'codexdataId': 21, 'isVerified': True, 'created': '2017-03-19T20:59:30', 'updated': '2017-07-11T18:21:04'}, {'id': 48, 'obeliskgroupId': 3, 'number': 7, 'isBroken': False, 'codexdataId': 24, 'isVerified': True, 'created': '2017-03-19T20:59:30', 'updated': '2017-07-12T14:08:38'}, {'id': 53, 'obeliskgroupId': 3, 'number': 12, 'isBroken': False, 'codexdataId': 25, 'isVerified': False, 'created': '2017-03-19T20:59:30', 'updated': '2017-03-19T20:59:30'}, {'id': 62, 'obeliskgroupId': 4, 'number': 7, 'isBroken': False, 'codexdataId': 24, 'isVerified': False, 'created': '2017-03-19T20:59:30', 'updated': '2017-07-11T18:21:04'}, {'id': 67, 'obeliskgroupId': 4, 'number': 12, 'isBroken': False, 'codexdataId': 24, 'isVerified': False, 'created': '2017-03-19T20:59:30', 'updated': '2017-03-19T20:59:30'}, {'id': 104, 'obeliskgroupId': 7, 'number': 3, 'isBroken': False, 'codexdataId': 44, 'isVerified': True, 'created': '2017-03-19T20:59:30', 'updated': '2017-07-11T18:21:04'}, {'id': 123, 'obeliskgroupId': 9, 'number': 9, 'isBroken': False, 'codexdataId': 5, 'isVerified': True, 'created': '2017-03-19T20:59:30', 'updated': '2017-07-11T18:21:04'}, {'id': 131, 'obeliskgroupId': 9, 'number': 17, 'isBroken': False, 'codexdataId': 6, 'isVerified': False, 'created': '2017-03-19T20:59:30', 'updated': '2017-05-01T17:07:21'}, {'id': 151, 'obeliskgroupId': 11, 'number': 9, 'isBroken': False, 'codexdataId': 40, 'isVerified': False, 'created': '2017-03-19T20:59:30', 'updated': '2017-05-01T13:54:31'}, {'id': 154, 'obeliskgroupId': 11, 'number': 12, 'isBroken': False, 'codexdataId': 43, 'isVerified': False, 'created': '2017-03-19T20:59:30', 'updated': '2017-03-19T20:59:30'}, {'id': 165, 'obeliskgroupId': 12, 'number': 1, 'isBroken': False, 'codexdataId': 42, 'isVerified': False, 'created': '2017-03-19T20:59:30', 'updated': '2017-04-21T22:49:28'}, {'id': 199, 'obeliskgroupId': 14, 'number': 1, 'isBroken': False, 'codexdataId': 42, 'isVerified': True, 'created': '2017-03-19T20:59:30', 'updated': '2017-07-11T18:21:04'}]\n"
     ]
    }
   ],
   "source": [
    "print(all_obelisk_info[2])"
   ]
  },
  {
   "cell_type": "code",
   "execution_count": 42,
   "metadata": {},
   "outputs": [
    {
     "name": "stdout",
     "output_type": "stream",
     "text": [
      "226\n",
      "3\n"
     ]
    }
   ],
   "source": [
    "print (len(all_obelisk_info))\n",
    "print (len(obelisks))"
   ]
  },
  {
   "cell_type": "markdown",
   "metadata": {},
   "source": [
    "# Start processing Data"
   ]
  },
  {
   "cell_type": "code",
   "execution_count": 9,
   "metadata": {
    "scrolled": true
   },
   "outputs": [
    {
     "name": "stdout",
     "output_type": "stream",
     "text": [
      "{'ruinId': 158, 'bodyName': '1 B', 'ruinTypeName': 'Alpha', 'coordinates': [-28.52, -156.7], 'obelisks': {'b': {'1': 0, '2': 0, '3': 0, '4': 0, '5': 0, '6': 0, '7': 0, '8': 0, '9': 1, '10': 0, '11': 0, '12': 1, '13': 0, '14': 0, '15': 0, '16': 0, '17': 0, '18': 0, '19': 0, '20': 0, '21': 0}, 'c': {'1': 0, '2': 0, '3': 1, '4': 0, '5': 0, '6': 0, '7': 0, '8': 0, '9': 0, '10': 0, '11': 0, '12': 0, '13': 1, '14': 0}, 'd': {'1': 0, '2': 0, '3': 1, '4': 0, '5': 0, '6': 0, '7': 0, '8': 0, '9': 0, '10': 0, '11': 0, '12': 0, '13': 1, '14': 0}, 'e': {'1': 0, '2': 0, '3': 0, '4': 0, '5': 0, '6': 0, '7': 1, '8': 0, '9': 0, '10': 0}, 'h': {'1': 0, '2': 0, '3': 0, '4': 0, '5': 1, '6': 0, '7': 0}, 'i': {'1': 0, '2': 0, '3': 0, '4': 0, '5': 0, '6': 0, '7': 1, '8': 0, '9': 0, '10': 0, '11': 0, '12': 0, '13': 0, '14': 0, '15': 0, '16': 0, '17': 0, '18': 0, '19': 0, '20': 0}, 'j': {'1': 0, '2': 0, '3': 0, '4': 0, '5': 0, '6': 0, '7': 1, '8': 0}, 'k': {'1': 0, '2': 0, '3': 0, '4': 0, '5': 0, '6': 1, '7': 1, '8': 0, '9': 0, '10': 0, '11': 0, '12': 0, '13': 0, '14': 0, '15': 0, '16': 0, '17': 0, '18': 0, '19': 0, '20': 0, '21': 0, '22': 0}, 'l': {'1': 0, '2': 0, '3': 0, '4': 0, '5': 0, '6': 0, '7': 1, '8': 0, '9': 0, '10': 0}, 'm': {'1': 0, '2': 0, '3': 0, '4': 0, '5': 0, '6': 0, '7': 0, '8': 0, '9': 0, '10': 0, '11': 0, '12': 0, '13': 0, '14': 1, '15': 0, '16': 0, '17': 0, '18': 1, '19': 0, '20': 0, '21': 0, '22': 1, '23': 0, '24': 0}, 'n': {'1': 0, '2': 0, '3': 0, '4': 0, '5': 0, '6': 0, '7': 1, '8': 0, '9': 0, '10': 0}, 'o': {'1': 0, '2': 0, '3': 0, '4': 0, '5': 0, '6': 0, '7': 0, '8': 0, '9': 0, '10': 0, '11': 0, '12': 1, '13': 0, '14': 0, '15': 0, '16': 0, '17': 0, '18': 0, '19': 0, '20': 1}}, 'bodyId': 101, 'bodyDistance': 1541, 'systemId': 92, 'systemName': '2MASS J10444160-5947046', 'systemCoordinates': [8614.19, -116.688, 2733.03], 'edsmSystemLink': 'https://www.edsm.net/en/system/id/187704/name/2MASS+J10444160-5947046', 'edsmBodyLink': 'https://www.edsm.net/en/system/bodies/id/187704/name/2MASS+J10444160-5947046/details/idB/5170678/nameB/2MASS+J10444160-5947046+1+B'}\n"
     ]
    }
   ],
   "source": [
    "print(get_ruin_info(158))"
   ]
  },
  {
   "cell_type": "code",
   "execution_count": 10,
   "metadata": {},
   "outputs": [
    {
     "name": "stdout",
     "output_type": "stream",
     "text": [
      "COL 173 SECTOR AP-Q B21-2\n",
      "[8614.19, -116.688, 2733.03]\n",
      "[8629.19, -98.8125, 2713.06]\n",
      "30.713749368157746\n"
     ]
    }
   ],
   "source": [
    "print(ruins[5]['systemName'])\n",
    "ruin1 = get_ruin_info(158)\n",
    "ruin2 = get_ruin_info(156)\n",
    "print(ruin1['systemCoordinates'])\n",
    "print(ruin2['systemCoordinates'])\n",
    "\n",
    "print(ruin_distance(ruin1, ruin2))\n"
   ]
  },
  {
   "cell_type": "code",
   "execution_count": 11,
   "metadata": {
    "collapsed": true
   },
   "outputs": [],
   "source": [
    "obelisks_260 = get_active_obelisks(226)\n"
   ]
  },
  {
   "cell_type": "code",
   "execution_count": 85,
   "metadata": {},
   "outputs": [
    {
     "name": "stdout",
     "output_type": "stream",
     "text": [
      "[{'codexdataId': 19, 'created': '2017-03-19T20:59:30', 'isVerified': False, 'obeliskgroupId': 40, 'isBroken': False, 'updated': '2017-03-19T20:59:30', 'number': 3, 'id': 640}, {'codexdataId': 18, 'created': '2017-03-19T20:59:30', 'isVerified': True, 'obeliskgroupId': 40, 'isBroken': False, 'updated': '2017-07-11T18:21:04', 'number': 4, 'id': 641}, {'codexdataId': 78, 'created': '2017-03-19T20:59:30', 'isVerified': False, 'obeliskgroupId': 42, 'isBroken': False, 'updated': '2017-07-11T18:21:04', 'number': 3, 'id': 682}, {'codexdataId': 59, 'created': '2017-03-19T20:59:30', 'isVerified': True, 'obeliskgroupId': 43, 'isBroken': False, 'updated': '2017-07-11T18:21:04', 'number': 5, 'id': 700}, {'codexdataId': 100, 'created': '2017-03-19T20:59:30', 'isVerified': True, 'obeliskgroupId': 45, 'isBroken': False, 'updated': '2017-07-11T18:21:04', 'number': 13, 'id': 733}, {'codexdataId': 17, 'created': '2017-03-19T20:59:30', 'isVerified': True, 'obeliskgroupId': 47, 'isBroken': False, 'updated': '2017-07-11T18:21:04', 'number': 16, 'id': 807}, {'codexdataId': 15, 'created': '2017-03-19T20:59:30', 'isVerified': False, 'obeliskgroupId': 47, 'isBroken': False, 'updated': '2017-07-11T18:21:04', 'number': 18, 'id': 809}, {'codexdataId': 59, 'created': '2017-03-19T20:59:30', 'isVerified': False, 'obeliskgroupId': 48, 'isBroken': False, 'updated': '2017-07-11T18:21:04', 'number': 5, 'id': 814}, {'codexdataId': 99, 'created': '2017-03-19T20:59:30', 'isVerified': False, 'obeliskgroupId': 50, 'isBroken': False, 'updated': '2017-05-01T14:49:17', 'number': 12, 'id': 845}, {'codexdataId': 101, 'created': '2017-03-19T20:59:30', 'isVerified': False, 'obeliskgroupId': 50, 'isBroken': False, 'updated': '2017-04-30T21:51:51', 'number': 14, 'id': 847}, {'codexdataId': 33, 'created': '2017-03-19T20:59:30', 'isVerified': False, 'obeliskgroupId': 51, 'isBroken': False, 'updated': '2017-03-19T20:59:30', 'number': 5, 'id': 852}, {'codexdataId': 37, 'created': '2017-03-19T20:59:30', 'isVerified': True, 'obeliskgroupId': 51, 'isBroken': False, 'updated': '2017-07-11T18:21:04', 'number': 10, 'id': 857}, {'codexdataId': 95, 'created': '2017-03-19T20:59:30', 'isVerified': True, 'obeliskgroupId': 52, 'isBroken': False, 'updated': '2017-07-11T18:21:04', 'number': 1, 'id': 862}, {'codexdataId': 97, 'created': '2017-03-19T20:59:30', 'isVerified': False, 'obeliskgroupId': 52, 'isBroken': False, 'updated': '2017-03-19T20:59:30', 'number': 3, 'id': 864}, {'codexdataId': 36, 'created': '2017-03-19T20:59:30', 'isVerified': True, 'obeliskgroupId': 56, 'isBroken': False, 'updated': '2017-07-11T18:21:04', 'number': 13, 'id': 933}, {'codexdataId': 56, 'created': '2017-03-19T20:59:30', 'isVerified': False, 'obeliskgroupId': 56, 'isBroken': False, 'updated': '2017-04-15T12:21:52', 'number': 18, 'id': 938}]\n",
      "16\n",
      "[19, 18, 78, 59, 100, 17, 15, 59, 99, 101, 33, 37, 95, 97, 36, 56]\n"
     ]
    }
   ],
   "source": [
    "print(obelisks_260)\n",
    "print(len(obelisks_260))\n",
    "print([x['codexdataId'] for x in obelisks_260 if x['isBroken'] == False])"
   ]
  },
  {
   "cell_type": "code",
   "execution_count": 13,
   "metadata": {},
   "outputs": [
    {
     "name": "stdout",
     "output_type": "stream",
     "text": [
      "[19, 18, 78, 59, 100, 17, 15, 59, 99, 101, 33, 37, 95, 97, 36, 56]\n"
     ]
    }
   ],
   "source": [
    "print(get_obelisk_group_codex_data(15))"
   ]
  },
  {
   "cell_type": "code",
   "execution_count": 14,
   "metadata": {},
   "outputs": [
    {
     "name": "stdout",
     "output_type": "stream",
     "text": [
      "[{'id': 1, 'categoryId': 1, 'artifactId': 3, 'entryNumber': 1, 'text': \"Thank you commander, this data has proven vital to my ongoing research. While it seemed logical that the alpha-pattern data corresponded with the core information on the Guardians' biology and ecology, I couldn't be certain until I received the data from your scan. I'm pleased my hypothesis has proved correct, and I've started to unlock some fascinating details about the Guardians. The extracted data relates to individuals rather than their species as a whole, but thanks to the information you have transmitted, I believe I will be able to merge the data to create a general picture.\", 'created': '2017-03-19T20:59:29', 'updated': '2017-04-23T16:37:04'}, {'id': 2, 'categoryId': 1, 'artifactId': 6, 'entryNumber': 2, 'text': \"The information you've uncovered is very interesting and regards the Guardians' anatomy and physiology, you might be surprised to learn they weren't that different to us. Their morphology was bipedal, although they were generally taller and more slender than the average human. Their skin tone was red, encompassing the whole spectrum of red hues. There were various reasons for these changes in pigmentation, including genetic disposition and the fact that they darkened as they aged\", 'created': '2017-03-19T20:59:29', 'updated': '2017-04-23T16:37:04'}, {'id': 3, 'categoryId': 1, 'artifactId': 1, 'entryNumber': 3, 'text': 'Details on the facial structure of the Guardians. Their faces were proportionally smaller than ours and they had round eyes, darkened from their evolution under a very strong sunlight. The colouration and structure of the eye indicates that not only they have keener vision than us, but they could also see a wider spectrum.', 'created': '2017-03-19T20:59:29', 'updated': '2017-04-23T16:37:04'}, {'id': 4, 'categoryId': 1, 'artifactId': 4, 'entryNumber': 4, 'text': 'This data details the facial structure of the Guardians. The nose appears to have been vestigial - I believe it was once more pronounced, but that some environmental change made it less useful - so their sense of smell would have been less developed than the human average. Their ears were very tightly formed against the skull, and the interesting array of internal acoustic chambers suggest they perceived sounds differently to us', 'created': '2017-03-19T20:59:29', 'updated': '2017-04-23T16:37:04'}, {'id': 5, 'categoryId': 1, 'artifactId': 2, 'entryNumber': 5, 'text': 'This data offers more details about the physical appearance of the Guardians. Most remarkable are their limbs. Their forelimbs had a serrated edge and were no doubt used as killing implements during the pack-hunting period. They had two more more joints in their arms than we do, facilitating complex articulation and the use of sophisticated sign language. The skeleton was flexible yet resilient and their muscles were long, thin and ropey. They had two hands, each with four digits.', 'created': '2017-03-19T20:59:29', 'updated': '2017-04-23T16:37:04'}, {'id': 6, 'categoryId': 1, 'artifactId': 5, 'entryNumber': 6, 'text': \"We've barely scratched the surface with the Guardians. There is so much yet to discover. But this new data contains one tantalising detail that stands out: their biochemistry was very similar to our own. They had blood in the same fashion as us, and it fulfilled exactly the same role as it does for us. Beyond this, they share a similar genetic structure, with DNA and RNA their core building blocks. Although a full analysis has not yet been conducted, this might be evidence of a common ancestor, but also of a branching in their genetic history. This is an astounding discovery!\", 'created': '2017-03-19T20:59:29', 'updated': '2017-04-23T16:37:04'}, {'id': 7, 'categoryId': 1, 'artifactId': 3, 'entryNumber': 7, 'text': \"This data offers more details about the physical appearance of the Guardians, specifically regarding genders. The similarities between humans and the Guardians continue to delight me. They had two distinct genders and reproduced sexually. There don't appear to have been any taboos surrounding sexual activity, as the data contains a large quantity of graphic images and recordings – not unlike some of our data nets!\", 'created': '2017-03-19T20:59:29', 'updated': '2017-04-23T16:37:04'}, {'id': 8, 'categoryId': 1, 'artifactId': 6, 'entryNumber': 8, 'text': \"This data contains more details about the Guardians' sexual behaviour and reproduction. Their body form encouraged sex while standing, but although this was the most comfortable pose, they entertained a variety of positions. I've concluded that sex was a recreational behaviour and not only for procreation. They didn't use birth control as they could manipulate their bodies to become temporarily sterile at will, although I've not yet identified the precise mechanism for this. It's clear their biological-manipulation technology was quite sophisticated. This data has huge applications for Medical treatments if we can unlock the secret.\", 'created': '2017-03-19T20:59:29', 'updated': '2017-04-23T16:37:04'}, {'id': 9, 'categoryId': 1, 'artifactId': 1, 'entryNumber': 9, 'text': \"This data contains more details about the Guardians' procreation and reproduction. Procreation was a matter of personal choice, although they were required to be a parent at least once during their lives to ensure the continuation of their genetic line. I've not yet established their metric for measuring time, but it's clear that the period of gestation was quite long, to allow substantial development of the young prior to birth. The infants were effectively helpless for a period after delivery.\", 'created': '2017-03-19T20:59:29', 'updated': '2017-04-23T16:37:04'}, {'id': 10, 'categoryId': 1, 'artifactId': 4, 'entryNumber': 10, 'text': \"This data contains more details about the Guardians' approach to raising their young. Care of the young was the duty of the wider community. Infants were raised in communal crèches rather than by their parents, the cultural significance of which I'm eager to unravel. I have established that prenatal care of the young involved genetic manipulation to remove hereditary diseases and other complications.\", 'created': '2017-03-19T20:59:29', 'updated': '2017-04-23T16:37:04'}, {'id': 11, 'categoryId': 1, 'artifactId': 2, 'entryNumber': 11, 'text': 'Although the alpha-pattern data encapsulates biological information, it also contains a treasure trove of cultural data. This is particularly true of the data you uncovered here. The data package appears to contain records pertaining to their food. I already knew that as pack hunters they were carnivores. I subsequently discovered that not only were their arm ridges excellent for killing prey, they also used for cutting meat into little pieces to fit in their small mouths.', 'created': '2017-03-19T20:59:29', 'updated': '2017-04-23T16:37:04'}, {'id': 12, 'categoryId': 1, 'artifactId': 5, 'entryNumber': 12, 'text': 'This data contains details about etiquette and hunting. The imperative of the kill was retained even as their society advanced. Food killed in the hunt was a delicacy. For guests, it was an honour to provide their host with something that had been hunted, but the host was expected to provide the same. Meat that had been hunted by a lone individual was given even greater accord. For a kill to be valid, it had to be achieved without weapons. Weaponry was only for civil defence or law enforcement.', 'created': '2017-03-19T20:59:29', 'updated': '2017-04-23T16:37:04'}, {'id': 13, 'categoryId': 1, 'artifactId': None, 'entryNumber': 13, 'text': \"This data contains details about etiquette feeding habits and hunting. Non-indigenous animals were considered a particular delicacy. The Guardians' expansion into space introduced them to new ecologies and, consequently, to new food. So far I've had little success in determining the details of these alien creatures or where they were obtained, but it was certainly a valuable trade for the Guardians. Huge parks and reserves were constructed on their worlds where they could hunt both local and imported animals.\", 'created': '2017-03-19T20:59:29', 'updated': '2017-03-19T20:59:29'}, {'id': 14, 'categoryId': 1, 'artifactId': 6, 'entryNumber': 14, 'text': \"This data is particularly interesting. It appears that another indication of their prowess in biological manipulation was the creation of unique creatures for consumption. This was done to ensure adequate supplies for the general population, although there was also a specialist trade. Having an animal created for a specific celebration demonstrated the owner's status and wealth, but being the creator of such a delicacy meant even greater honour. This part of the research could aid us in food production and make famine a thing of the past.\", 'created': '2017-03-19T20:59:29', 'updated': '2017-04-23T16:37:04'}, {'id': 15, 'categoryId': 1, 'artifactId': 1, 'entryNumber': 15, 'text': 'It seems that most of this data package has become corrupted, however I have been able to decipher one section. It seems that the Guardians retained the ability to digest raw meat, and most meals were served uncooked, although they did appreciate cooked meat. This became an almost ceremonial aspect of their eating, and was often incorporated into formal meals.', 'created': '2017-03-19T20:59:29', 'updated': '2017-04-23T16:37:04'}, {'id': 16, 'categoryId': 1, 'artifactId': 4, 'entryNumber': 16, 'text': \"This data is fascinating commander. I now have a better understanding of the types of environment and how that relates to the Guardians' development. The alpha-pattern data has yielded a wealth of information on the Guardians, but throughout my research I've also been looking for information on their homeworld...and now I think I've found what we need! The location of their homeworld still eludes me, but this new data may give enough for us to narrow the search criteria.\", 'created': '2017-03-19T20:59:29', 'updated': '2017-04-23T16:37:04'}, {'id': 17, 'categoryId': 1, 'artifactId': 2, 'entryNumber': 17, 'text': \"This data contains more details about the Guardians' physiology regarding their environment. Looking through previous data collected by pilots like yourself, It came as no surprise to learn that their environmental requirements were very similar to our own. Barring any local biological threats, we could easily live on their worlds - they wouldn't even need terraforming. In fact, we would find their worlds more comfortable than the Guardians would ours.\", 'created': '2017-03-19T20:59:29', 'updated': '2017-04-25T22:02:51'}, {'id': 18, 'categoryId': 1, 'artifactId': 5, 'entryNumber': 18, 'text': \"This data contains more details about the Guardians' physiology regarding their environment. I can see from this data that humanity would indeed be able to cope if not thrive on the same worlds as the Guardians and vice versa. The first key difference is gravity. Most of their worlds have a lower gravity rating than we would consider normal, which no doubt explains their taller, more slender frame. Their flexible bone structure would adapt to high gravity with little discomfort or loss in physical strength.\", 'created': '2017-03-19T20:59:29', 'updated': '2017-04-23T16:37:04'}, {'id': 19, 'categoryId': 1, 'artifactId': 3, 'entryNumber': 19, 'text': \"This data contains more details about the Guardians' physiology regarding their environment. This data shows that they preferred warmer worlds than we do, and don't appear to have been well suited to colder climates. Fragments of their history reveal that they experienced changes in climate in their early history, and it was that - rather than conflict - that prompted their technological development. They had thick skins but lacked a fatty layer, which I think reduced their ability to function in cold temperatures. More and more, the alpha-pattern data extends to include aspects of their culture. It's fascinating subject matter, but I still need more data.\", 'created': '2017-03-19T20:59:29', 'updated': '2017-04-23T16:37:04'}, {'id': 20, 'categoryId': 2, 'artifactId': 3, 'entryNumber': 1, 'text': 'This is very interesting commander. This is a new data pattern. I have given it the designation beta-pattern data. I can already report that it contains some fascinating insights into the Guardians culture. The first is that religion formed a large part of their lives. Strangely this seems to have occurred late in their development, after various technological revolutions. The details are a bit vague in this data package. There must be others that hold more cultural details. Please continue the search.', 'created': '2017-03-19T20:59:29', 'updated': '2017-04-24T16:41:48'}, {'id': 21, 'categoryId': 2, 'artifactId': 5, 'entryNumber': 2, 'text': \"Your hard work is paying off commander. This data holds more details about the Guardians' culture, specifically spiritual matters. Almost from the dawn of their civilisation they possessed a strong spiritual sense - one that reflected their close connection to the natural world. Even when they'd developed industrial-scale machinery, they maintained a balance with the world around them. Their ongoing love of hunting presumably played a significant part in this\", 'created': '2017-03-19T20:59:29', 'updated': '2017-04-23T16:37:04'}, {'id': 22, 'categoryId': 2, 'artifactId': 1, 'entryNumber': 3, 'text': \"This data holds more details about the Guardians' culture, specifically spiritual matters. This spiritual awareness sustained them through most of their history, but did not evolve into a formal religion. It was not until the development of machine intelligence, during the most rapid era of their development, that any sort of organised religion emerged. I speculate that this technological singularity alienated much of the population, who responded by rejecting this technology.\", 'created': '2017-03-19T20:59:29', 'updated': '2017-04-23T16:37:04'}, {'id': 23, 'categoryId': 2, 'artifactId': 6, 'entryNumber': 4, 'text': \"This data holds more details about the Guardians' culture. The tipping point that gave rise to organised religion amongst the Guardians doesn't appear to have been the creation of thinking machines, but other technological developments - in particular a kind of implant that interfaced with the brain. Up to this point, biological enhancement and repair had utilised only organic-based systems, so this sudden change frightened many.\", 'created': '2017-03-19T20:59:29', 'updated': '2017-04-23T16:37:04'}, {'id': 24, 'categoryId': 2, 'artifactId': 4, 'entryNumber': 5, 'text': \"This is very interesting, very interesting indeed. This data holds more details about the Guardians' culture. There was an anti-technology movement that rejected not only specific developments, but also inventions such as virtual reality. The loose customs associated with their affinity for nature formed the basis for a new belief system. It evolved rapidly - almost as quickly as the technological advancements produced by the scientists and machine intelligences. It's interesting to note the parallels with human-made sentient technology, and how its development threatened humanity during the golden age of technological advancement. The growth of this new religion divided the population, and conflict soon erupted\", 'created': '2017-03-19T20:59:29', 'updated': '2017-04-23T16:37:04'}, {'id': 25, 'categoryId': 2, 'artifactId': 2, 'entryNumber': 6, 'text': 'This data holds some shocking revelations. it talks about the religion that emerged towards the end of the guardians civilisation and I wont lie it has shocked me. while religion remains a feature of human society, unless you live in one of the more extreme theocracies, its generally a matter of personal faith rather than a generally accepted consequence of the human condition. I know some of my fellow researchers would disagree with me. but it is generally assumed that religious beliefs tends to reduce their potency as scientific understanding grows in the case of the guardians, the opposite holds true, it truly divided them.', 'created': '2017-03-19T20:59:29', 'updated': '2017-04-23T16:37:04'}, {'id': 26, 'categoryId': 2, 'artifactId': None, 'entryNumber': 7, 'text': \"This data does not paint a bright picture of the Guardians culture at the point it was recorded. As I examined the data in this beta pattern and crossed references from other data I have received, I have learned that the truth wasn't quite so clear cut. The information I've extracted regarding their legal system indicates a stable and mature society. Given the physical similarities between us and them, I'm amazed at the cultural and societal differences and the speed at which they rose to become part of their lives.\", 'created': '2017-03-19T20:59:29', 'updated': '2017-05-28T10:30:54'}, {'id': 27, 'categoryId': 2, 'artifactId': 5, 'entryNumber': 8, 'text': \"This data contains cultural data, specifically regarding the legal system of the Guardians. In contrast to many of our legal systems, the fundamental laws do not concern individual right, but instead focus on defining the individual's responsibilities to society. I'm sure this is another reflection of their pack mentality, where the requirements of the group supersede those of a single person. Naturally it isn't as simple as that in practice – for example, individuals were expected to come to another's aid if necessary.\", 'created': '2017-03-19T20:59:29', 'updated': '2017-04-23T16:37:04'}, {'id': 28, 'categoryId': 2, 'artifactId': 1, 'entryNumber': 9, 'text': 'This data contains cultural data, specifically regarding the legal system of the Guardians. An individuals responsibility extended, past simply obeying the law to include elements of law enforcement. Society was self regulated, with everyone required to ensure laws were obeyed. These values were instilled in the young as part of their education in the communal crèches.', 'created': '2017-03-19T20:59:29', 'updated': '2017-04-23T16:37:04'}, {'id': 29, 'categoryId': 2, 'artifactId': 6, 'entryNumber': 10, 'text': 'This data contains cultural data, specifically further details regarding social responsibility. As well as being regulated, there was still hierarchical form of administration within the legal system. These were defined by areas of responsibility, but as with all the Guardians’ social structures, everyone was expected to participate, meaning that individuals were required to fill certain legislative roles as part of their everyday life. Some of the concepts aren’t completely clear, but I believe individuals were nominated and couldn’t hold office for more than a single term.', 'created': '2017-03-19T20:59:29', 'updated': '2017-04-23T16:37:04'}, {'id': 30, 'categoryId': 2, 'artifactId': 4, 'entryNumber': 11, 'text': \"An excellent discovery commander. I was wondering when we would find this type of cultural data. I had begun to fear it might not exist. You can tell a lot about a people from their art. Humanity has demonstrated great creativity in artistic expression throughout history, and I'm keen to compare our art with the Guardians'. Fortunately I've been able to tease some details from the beta-pattern data abstracts in this data package. We already knew they were capable of fabulous architecture, but these records show that buildings, statues, monoliths and even city layouts were a common outlet for aesthetic expression.\", 'created': '2017-03-19T20:59:29', 'updated': '2017-04-23T16:37:04'}, {'id': 31, 'categoryId': 2, 'artifactId': 2, 'entryNumber': 12, 'text': 'This is truly fascinating data commander, as an engineer myself I have to admit I’m highly curious about the Guardians technology. It seems that the Guardians had a particular fascination with geometric shapes, which they used to illustrate connections between themselves and the world around them. This predilection manifested itself in their technology as well - specifically their monolith network. With this data and the help of the galactic community we’ve partially mapped the monolith network, which formed the backbone of their communications technology, and discovered that they too are arranged in geometric patterns. Whilst this does not give us full access to the network, I believe it is the first step to unlocking the entire system and maybe more.', 'created': '2017-03-19T20:59:29', 'updated': '2017-04-23T16:37:04'}, {'id': 32, 'categoryId': 2, 'artifactId': 3, 'entryNumber': 13, 'text': \"This data contains more details on the Guardians' culture, specifically art. Many of the records I've now extracted include the data you've just sent through, show that most of the Guardians' art had a religious basis. It seems that their shift to a religious society affected all aspects of their lives. I have found older records that indicate other art forms did exist, with realistic and abstract techniques evident. I hoping that some of the data we've yet to decode will contain images of these art works.\", 'created': '2017-03-19T20:59:29', 'updated': '2017-04-23T16:37:04'}, {'id': 33, 'categoryId': 2, 'artifactId': None, 'entryNumber': 14, 'text': \"This data contains more details on the Guardians' culture, specifically art and how it fitted into social responsibility. It appears each individual Guardian had a cultural commitment to create and share works of art. While it's clear that the quality varied between individuals, all works were considered worthy by virtue of their efforts alone. This package does in fact contain many images of their works. It is truly interesting, such a pity we might never know the meaning behind many of these pieces.\", 'created': '2017-03-19T20:59:29', 'updated': '2017-03-19T20:59:29'}, {'id': 34, 'categoryId': 2, 'artifactId': 5, 'entryNumber': 15, 'text': \"A human observer might find the Guardians' visual art severe and lacking in emotion, but the same could not be said of their music. They didn't use musical instruments, so strictly speaking it's singing, although I think they might have used their bodies for rhythm and percussion. I've extracted audio from the data you have collected and have listened to, for want of a better term, their “songs”. The range of their voices is something to be admired. And it's so rich with emotion – many pieces are so haunting, it breaks the heart to listen them.\", 'created': '2017-03-19T20:59:29', 'updated': '2017-04-23T16:37:04'}, {'id': 35, 'categoryId': 2, 'artifactId': 1, 'entryNumber': 16, 'text': \"This is very interesting data commander. The data describes what must have been a kind of counter culture. Dancing was considered taboo, especially when combined with language gestures, but there is evidence that gesture dances were popular with adolescents, possibly as a form of rebellion. I'm not sure why such activity was prohibited, but it might have something to do with potentially conflicting information - something they took great pains to avoid.\", 'created': '2017-03-19T20:59:29', 'updated': '2017-04-23T16:37:04'}, {'id': 36, 'categoryId': 2, 'artifactId': 6, 'entryNumber': 17, 'text': \"This data contains details of other past times and cultural events. As a consequence of their extensive industrial automation, the Guardians had a lot more time for social pursuits than we do. It's another interesting contrast - we have a similar capability, but our fear of surrendering control to machine intelligence means we remain wedded to idiosyncratic working practices. We could learn so much from this species - I only hope that in some small measure my research guides us toward such enlightenment.\", 'created': '2017-03-19T20:59:29', 'updated': '2017-04-23T16:37:04'}, {'id': 37, 'categoryId': 2, 'artifactId': 4, 'entryNumber': 18, 'text': \"This data contains details of other past times and cultural events. The Guardians didn't waste the freedom their technological advancements offered: leisure activities were encouraged, even expected, as part of normal social intercourse. Time was devoted to social responsibilities and furthering personal abilities. Scientific research is a good example of this. Although they stagnated in their later period, throughout their early history the Guardians had a societal obligation to seek out and share knowledge. Research was often conducted in vast collaborative programmes, which were also seen as vital learning experiences.\", 'created': '2017-03-19T20:59:29', 'updated': '2017-04-23T16:37:04'}, {'id': 38, 'categoryId': 2, 'artifactId': 2, 'entryNumber': 19, 'text': \"This data contains more cultural information. Their attitude towards their varied endeavours sets them apart from humans. Their social obligations were not seen as chores - in fact they enjoyed participating in these roles. Because all were obligated to take part, it meant social responsibilities were often a short-term diversion, as well as allowing individuals to accrue a variety of experience. I also think there was a biochemical component that enhanced their enjoyment of such tasks, but I haven't been able to prove that supposition yet.\", 'created': '2017-03-19T20:59:29', 'updated': '2017-04-23T16:37:04'}, {'id': 39, 'categoryId': 2, 'artifactId': 3, 'entryNumber': 20, 'text': \"This data contains more details about entertainment as a cultural activity. I believe this data show that the Guardians enjoyed what we would consider traditional entertainment. The performance of classical stories and historical epics seem to have been very popular. Their equivalent to theatre was more participatory than ours, with less of a distinction between audience and performer - so much so that the term 'enactment' might be more accurate than 'theatre'. It's just another example of this species' incredible social dynamics.\", 'created': '2017-03-19T20:59:29', 'updated': '2017-04-23T16:37:04'}, {'id': 40, 'categoryId': 3, 'artifactId': None, 'entryNumber': 1, 'text': 'While I haven’t been able to establish a granular time frame for the Guardians, This data you have uncovered has allowed me to identify general eras. Once again I am indebted to you for gathering valuable research data - particularly the gamma-pattern data packages that have helped me unlock this information. The new data illustrates the Guardians’ impressive development. Details of the Guardians’ very early history are sketchy at best, but there’s enough detail for me to reach a few conclusions. We know they evolved as pack hunters with tribal groups of 20 to 30 individuals. They lived in jungle regions similar to those found on Earth, and preferred very hot and humid climates.', 'created': '2017-03-19T20:59:29', 'updated': '2017-03-19T20:59:29'}, {'id': 41, 'categoryId': 3, 'artifactId': 1, 'entryNumber': 2, 'text': \"This data is remarkable and covers the early history of the Guardians. They were highly intelligent, and developed sophisticated and effective hunting strategies that quickly saw them become the apex predator in their biomes. Their agility allowed them to take advantage of varied terrain and so avoid predation themselves. I was surprised to learn they were nomadic rather than territorial, but this appears to have been motivated by a desire to mix with other groups and increase genetic diversity rather than a lack of prey. The Guardians developed their core vocal and gestural methods of communication quite early, although it wasn't until they developed tools that they were able to record suck communication.\", 'created': '2017-03-19T20:59:29', 'updated': '2017-04-23T16:37:04'}, {'id': 42, 'categoryId': 3, 'artifactId': 6, 'entryNumber': 3, 'text': \"This data is very interesting and covers the early history of the Guardians. The Guardians' recorded history begins much earlier than it does in human history. Their early art appears to be concerned more with recording practical activity than with personal expression, so maybe this practicality was a factor. Their earliest records tell of a great upheaval caused by climate change, and although the exact cause isn't recorded, there are references to a dimming of the sun. Whatever the cause, the effect was a drop in global temperature. Having evolved to operate in a tropical environment, the Guardians were unsuited to the suddenly colder climate. But their intelligence allowed the to adapt better than other creatures in their ecology by building primitive shelters from plants\", 'created': '2017-03-19T20:59:29', 'updated': '2017-04-23T16:37:04'}, {'id': 43, 'categoryId': 3, 'artifactId': 4, 'entryNumber': 4, 'text': 'The data provides more details regarding the development of the Guardians in their early history. The worsening weather after what I understand as global climate change or possibly a cosmic event, precipitated the development of tools, which allowed the Guardians to build more durable structures. They soon learned to use stone in their buildings, and with this greater permanence they developed a deeper appreciation for the visual arts, using them to decorate the inside of their homes. Even at this early stage they were conscious of the need for urban planning, and one can clearly see a relationship between the layout of these early villages and the form of their later cities.', 'created': '2017-03-19T20:59:29', 'updated': '2017-04-23T16:37:04'}, {'id': 44, 'categoryId': 3, 'artifactId': 2, 'entryNumber': 5, 'text': \"This data holds details of the Guardians continue development. It appears that their early nomadic existence came to an end in the same period as the development of more permanent buildings - although the young were still encouraged to journey to other camps - and this switch to a more settled existence brought with it various social changes. For example, the Guardians began to use statues to mark out the regions occupied by a specific clan. It's interesting to note, however, that I have found little evidence of conflict between neighbouring clans. Evidently, the careful management of their populations resulted in cooperative strategies rather than competitive ones.\", 'created': '2017-03-19T20:59:29', 'updated': '2017-04-23T16:37:04'}, {'id': 45, 'categoryId': 3, 'artifactId': 5, 'entryNumber': 6, 'text': 'This data contains evidence of increased animal husbandry within the first early settlements, no doubt to ensure adequate food supplies. More startling is the fact that they also practised selective breeding. They possessed a reasonable understanding of inherited traits, which is remarkable given their level of technological development', 'created': '2017-03-19T20:59:29', 'updated': '2017-04-23T16:37:04'}, {'id': 46, 'categoryId': 3, 'artifactId': 3, 'entryNumber': 7, 'text': 'This data contains evidence that in their late history the Guardians entered an era of great technological development, although this process also precipitated a period of conflict. Their most notable advances were in the field of genetic manipulation. Early experiments involved captive animals before moving on to micro-organisms, the latter triggering advances in medical sciences and engineering. One example is the development of virus-like organisms used to combat specific diseases and supplement the Guardians’ immune systems. This data will be priceless to medical teams throughout the galaxy. More and more I feel we need to publish our results to all. I think that would have been in keeping with the social responsibility shown by the Guardians.', 'created': '2017-03-19T20:59:29', 'updated': '2017-04-23T16:37:04'}, {'id': 47, 'categoryId': 3, 'artifactId': None, 'entryNumber': 8, 'text': 'This data contains details regarding the rise of new technologies. It appears that the development of these technologies varied between clans, creating inequality and, ultimately, conflict. Initially, that conflict was resolved through personal combat between individual champions, but as clans started using numbers to overwhelm their opponents, the practice of warfare began to spread. This led to a surge in weapons development, with biological warfare quickly established as the weapon of choice. An arms race began, focused on the development of biological agents and various counter measures. It saddens me to discover this as I had hoped the Guardians would prove to be more advanced. A little naive I know as conflict is a common element of many species throughout the galaxy. Whether for resources, land or power over others. We all seem too share this shame.', 'created': '2017-03-19T20:59:29', 'updated': '2017-03-19T20:59:29'}, {'id': 48, 'categoryId': 3, 'artifactId': 1, 'entryNumber': 9, 'text': \"This data contains the details of the weaponry the Guardians developed during the various conflicts that swept over their civilization. As well as biological weapons, the first flight systems (in the form of airships) and computers were developed around this period. These early computers were used to model the effects of large-scale biological attacks. The spread of war had a devastating impact on the Guardians' social systems. Population control vanished as the clans realised they needed to be able to absorb large numbers of casualties. The cooperative social Paradigm collapsed and schisms of appeared between populations. I haven't determined exact dates yet, but I'm confident this era of conflict lasted for several centuries.\", 'created': '2017-03-19T20:59:29', 'updated': '2017-04-23T16:37:04'}, {'id': 49, 'categoryId': 3, 'artifactId': 6, 'entryNumber': 10, 'text': \"This data tells of the end of a major conflict in the Guardians history and he rise of their modern society. It took the leadership of a few clans, from the north of the main continent, to restore peace. These clans had endured considerable hardship during their early development, perhaps resulting in a stronger breed. Banding together, they fought a swift war of conquest and brought the entire race under their leadership. It was from this that the Guardians' modern society, with its rules and balance, developed. Interestingly I've noticed evidence of a genetic break along the north-south divide and of redder skins among the northern clans, suggesting a racial element to the division.\", 'created': '2017-03-19T20:59:29', 'updated': '2017-04-23T16:37:04'}, {'id': 50, 'categoryId': 3, 'artifactId': 4, 'entryNumber': 11, 'text': \"This data speaks about Guardians history and the development of their modern society and the first interest in off world exploration. The Guardian city-states continued to operate for over a thousand years, and the ancient forms of cooperative advancement resulted not only in a large population but also a peaceful and generally happy one. But with a finite amount of land available this population growth couldn't continue forever, and as the Guardians neared the limits a conference was organised. Astronomical research had become vogue in the previous decades, and the Guardians had identified a number of accessible planets capable of supporting life. Many individuals aspired to travel among the stars and colonise other planets. At first, such ambitions did not receive much support, but after options such as stricter population control were deemed undesirable, off-world colonisation became the most popular option\", 'created': '2017-03-19T20:59:29', 'updated': '2017-04-23T16:37:04'}, {'id': 51, 'categoryId': 3, 'artifactId': 2, 'entryNumber': 12, 'text': 'This data is incredible. The information regarding the Guardians first attempts at space travel are particularly interesting. Although the Guardians clearly had the capacity for sophisticated flight technology, they had not built anything more advanced than dirigibles, no doubt because airships were more in keeping with their ecologically conscientious philosophy. With rocket technology deemed environmentally unfriendly, they developed vast launchers that used electro-magnetic propulsion to catapult ships into space. Breathable gel cocoons helped pilots and passengers withstand the huge G-forces experienced on launch, and served as hibernation pods during long journeys. Having not yet developed faster-than-light technology, the Guardians constructed three large arks for their first interstellar colonies. Much like the Generation ships in our own history.', 'created': '2017-03-19T20:59:29', 'updated': '2017-04-23T16:37:04'}, {'id': 52, 'categoryId': 3, 'artifactId': 5, 'entryNumber': 13, 'text': \"This data is extremely exciting commander. Contained in this package is information regarding the Guardians use of faster than light communication. Almost the entirety of the Guardians' society was devoted to researching interstellar travel and communication. A breakthrough in faster-than-light communication was made before the arks reached their destinations, but the information was transmitted to the arks while they were still in transit, allowing the colonists to establish faster-than-light communications when they landed. Consequently, the interstellar network was developed extremely quickly. The arks kept the population at a manageable level long enough for the Guardians to develop hyperspace technology, which fuelled their expansion into the galaxy. The project also cemented the cooperative city-state model, which would serve the Guardians until their ultimate demise.\", 'created': '2017-03-19T20:59:29', 'updated': '2017-04-23T16:37:04'}, {'id': 53, 'categoryId': 3, 'artifactId': 3, 'entryNumber': 14, 'text': \"This data describes what the guardians referred to as an age of information. Although the Guardians had used computers for generations, it wasn't until the development of artificial intelligence that they truly entered an information age. This saw the construction of what ultimately became the monolith network – an interstellar communication and computing system. The network existed before the development of AI, but it was the creation of machine intelligence, along with the development of neural implants, that brought this network into the heart of the Guardians' society.\", 'created': '2017-03-19T20:59:29', 'updated': '2017-04-23T16:37:04'}, {'id': 54, 'categoryId': 3, 'artifactId': 5, 'entryNumber': 15, 'text': 'Commander this data has proven vital in our attempt to understand the Guardians Technology. It appear the the development of AI increased their technology very quickly. This sudden increase in computational ability – a result of the new implants, allowed the AIs to adapt and eventually evolve true sentience. This sparked a technological singularity – a rapid advancement across the whole landscape of science and technology. As the AIs developed further, this effect snowballed. In conjunction, many Guardians received implants so they could keep up with the extraordinary pace.', 'created': '2017-03-19T20:59:29', 'updated': '2017-04-23T16:37:04'}, {'id': 55, 'categoryId': 3, 'artifactId': 3, 'entryNumber': 16, 'text': 'This data contains evidence that not all individuals adopted the new technologies and received implants, and the rapid pace of the technological revolution resulted in new forms of inequality and threatened the very fabric of society. Unfortunately, they were unable to muster a unified response to these changes, which widened the gap between those who accepted the changed and those who resisted them. The politicians were the first to react to the changing social landscape, but soon the resistance to the technological revolution took on a religious overtone.', 'created': '2017-03-19T20:59:29', 'updated': '2017-04-23T16:37:04'}, {'id': 56, 'categoryId': 3, 'artifactId': 5, 'entryNumber': 17, 'text': \"According to this data, the Guardians' homeworld served as a powerbase for this new religious order, which eventually succeeded in ostracising or exiling all of its opponents. I can find no other reference to these exiles in the historical record. This development should have resulted in peace, but a further division arose over the fate of the AIs. At that time, the AIs were virtual entities, and so were reliant on the monolith network to exist. Because this made them vulnerable, they searched for a way to achieve independence from the network. Their research aroused the fear of the abolitionists, who used violent methods to prevent the AIs from achieving independence, and even to combat those Guardians who accepted the AIs.\", 'created': '2017-03-19T20:59:29', 'updated': '2017-04-25T21:16:18'}, {'id': 57, 'categoryId': 3, 'artifactId': 1, 'entryNumber': 18, 'text': \"This data describes details about the Guardians second civil war. The war was ostensibly fought between the people of the homeworld and the colonies, but in truth there were divisions even among individual city-states. The scale of the conflict far exceeded that of the first civil war. In human terms, the first Guardian civil war was little more than a political clash, albeit with some violent conflict, but the second was an all-out war between the abolitionists and the rest of society. The war eventually destroyed the Guardians' habitats, forcing them to retreat into 'sacred' domes protected by powerful shields\", 'created': '2017-03-19T20:59:29', 'updated': '2017-04-23T16:37:04'}, {'id': 58, 'categoryId': 3, 'artifactId': 6, 'entryNumber': 19, 'text': \"This data describes details about the Guardians second civil war. The war raged for many years and eventually destroyed the Guardians' habitats, forcing them to retreat into 'sacred' domes protected by powerful shields. Eventually even the domes were destroyed, or their shields failed, and ultimately the population died out. Their predilection for expending resources on honouring the dead - a key tenet of their religion - only served to accelerate their extinction. Records indicate some variation in the nature of this devastation, most obviously at sites consisting of multiple domes. In these locations it appears the inner domes were destroyed later than the outer ones, as indicated by the slightly lower radiation signatures in the inner areas. I can only surmise that the attackers returned, after an initial assault, to finish the job.\", 'created': '2017-03-19T20:59:29', 'updated': '2017-04-23T16:37:04'}, {'id': 59, 'categoryId': 3, 'artifactId': 4, 'entryNumber': 20, 'text': 'This data describes details about the Guardians second civil war. It appears that the Guardians approach to warfare vastly changed as the war continued. Warfare was conducted using automated battle fleets. At first these were controlled by the Guardians via brain implants, but later they became entirely autonomous. In the early stages of the war the Guardians fought each other directly, but within a decade - and after much loss of life - most of the fighting was conducted remotely. Soldiers were deployed only to occupy areas that had been captured by autonomous or remote vehicles, and eventually were not used at all.', 'created': '2017-03-19T20:59:29', 'updated': '2017-04-23T16:37:04'}, {'id': 60, 'categoryId': 3, 'artifactId': 2, 'entryNumber': 21, 'text': 'This data describes details about the Guardians second civil war. The war raged for over a hundred years, and Guardian populations fell dramatically during this time. Fertility rates dropped due to increased radiation levels and because the Guardians considered it blasphemous to use technology to address a biological issue. Eventually, one of the competing forces triumphed, but by that point, all the Guardians other than those who had been exiled a century earlier were dying.', 'created': '2017-03-19T20:59:29', 'updated': '2017-04-23T16:37:04'}, {'id': 61, 'categoryId': 4, 'artifactId': None, 'entryNumber': 1, 'text': \"This is fascinating! The obelisks are clearly some form of data storage, but so far I haven't been able to determine what other purposes they might have had. I am very much indebted to the you commander for searching for the information I need, although I wish I could see the obelisks for myself. Perhaps closer proximity would inspire greater understanding! Unfortunately my responsibilities here preclude me from such adventure. I believe these are the first clues to understanding the alien language.\", 'created': '2017-03-19T20:59:29', 'updated': '2017-03-19T20:59:29'}, {'id': 62, 'categoryId': 4, 'artifactId': 4, 'entryNumber': 2, 'text': \"I'm not disheartened, our early interactions have provided the basis for my research. The illuminated patterns are of obvious importance, and I believe represent a form of writing. Their illumination and movement suggest some additional meaning - so much so that I can't accept that they're merely signs or labels. There is a definite structure here, one that I intend to decipher. The more data you can collect the more I can correlate in the hope of assembling a kind of Rosetta Stone for their language.\", 'created': '2017-03-19T20:59:29', 'updated': '2017-04-23T16:37:04'}, {'id': 63, 'categoryId': 4, 'artifactId': 1, 'entryNumber': 3, 'text': \"It appears I was correct in my theory that the delta-pattern data was the key to unlocking the language of this dead race. Sometimes you have to operate on intuition, but this data you've uncovered makes a connection between some of the glyphs on the obelisks and the forms in the data you have provided. I believe the delta patterns could be the building blocks of a lexicon.\", 'created': '2017-03-19T20:59:29', 'updated': '2017-04-23T16:37:04'}, {'id': 64, 'categoryId': 4, 'artifactId': 6, 'entryNumber': 4, 'text': \"From the data packet you've discovered here I've gained a sense of a very cooperative society - one in which all elements worked in unison towards a common purpose. I also believe they shared an expectation of mutual protection. I'm still delving into these mysteries, but I believe 'Guardians' would be a good name for this species.\", 'created': '2017-03-19T20:59:29', 'updated': '2017-04-23T16:37:04'}, {'id': 65, 'categoryId': 4, 'artifactId': 2, 'entryNumber': 5, 'text': \"It's dawned on me that the task ahead of us is colossal, and one I eagerly throw myself into. With the help of brave pilots like you, my analysis has revealed there is variation in the data blocks which you are discovering, which I think represents their equivalent of words. This indicates that their language was almost a universal one, which will make my efforts to understand it easier.\", 'created': '2017-03-19T20:59:29', 'updated': '2017-04-23T16:37:04'}, {'id': 66, 'categoryId': 4, 'artifactId': 4, 'entryNumber': 6, 'text': 'This data packet indicates that the guardians used two different forms of communication with the same - or at the very least similar - language constructs, its slow but fascinating work, using this data I believe I can establish a rudimentary understanding of the oldest two forms - verbal communication. like us they had a vocal language, and the range of sounds appears to be similar to that used in human vocalisation.', 'created': '2017-03-19T20:59:29', 'updated': '2017-04-23T16:37:04'}, {'id': 67, 'categoryId': 4, 'artifactId': 3, 'entryNumber': 7, 'text': \"This is a great find commander. According to this data I've been able to deduce that verbal communication emerged early in their history. The scale of the archaeological sites suggests a social society with large populations. There is some supposition on my part, but the data you just found seems to support this contention\", 'created': '2017-03-19T20:59:29', 'updated': '2017-04-23T16:37:04'}, {'id': 68, 'categoryId': 4, 'artifactId': None, 'entryNumber': 8, 'text': 'Excitingly, this group of delta-pattern recordings contain audio data. Not only will this help me establish the range of sounds they could make, it has should also allow me to confirm that they spoke with accents, as there are regional variations in the sound of their words.', 'created': '2017-03-19T20:59:29', 'updated': '2017-03-19T20:59:29'}, {'id': 69, 'categoryId': 4, 'artifactId': 4, 'entryNumber': 9, 'text': \"The decoder is having a problem deciphering this data packet and is running slower than I'd hoped. The data is formulated in such a way that individual constructs are easily extracted, but there seems to be stopping the decoder putting it all back together. I had assumed it would be simpler to establish a list of words even if I didn't know the meanings. The relationship between the audio data and the constructs, which I believe to represent their written form, Has revealed to be more complicated than I originally thought. Here is comes. This data seems to suggest that their spoken language was of a tonal form, similar to some human languages, meaning that the exact meaning of a word was determined by how it was said.\", 'created': '2017-03-19T20:59:29', 'updated': '2017-04-23T16:37:04'}, {'id': 70, 'categoryId': 4, 'artifactId': 1, 'entryNumber': 10, 'text': \"With this data we've made a significant advancement. I believe we have identified what might be full sentences for the first time. Words are only fragments of a language – sentences illustrate the rules of it. It's only natural that an alien language would be structurally different to human ones. I'm realising that what I'd deciphered from the previous data packets were simply nouns. So I decided they must be lists, and looked for other more varied forms. Unfortunately I met with no success, until now.\", 'created': '2017-03-19T20:59:29', 'updated': '2017-04-23T16:37:04'}, {'id': 71, 'categoryId': 4, 'artifactId': 6, 'entryNumber': 11, 'text': 'This Data is just what I’ve been looking for. I had been in a deadlock until the pattern-recognition software highlighted some repeating motifs in this data package. Delving deeper, I think I can establish that not only did variance in sound produce different meanings, but that the placement in relation to other words also altered the meaning. This is a real breakthrough!', 'created': '2017-03-19T20:59:29', 'updated': '2017-04-23T16:37:04'}, {'id': 72, 'categoryId': 4, 'artifactId': 2, 'entryNumber': 12, 'text': \"This data package is huge. I could all too easily be distracted by the wealth of audio data in these delta patterns. To actually hear the Guardians' language as it would have been spoken proving too great a temptation. But this data reveals that the formal basis of their communication was visual rather than verbal. This seems logical, as the written word has more portability ad permanence than speech. I plan to dig deeper into the information collected by you and other explorers to learn the visual form, which I believe originated much earlier in the Guardians' development than I originally thought\", 'created': '2017-03-19T20:59:29', 'updated': '2017-04-23T16:37:04'}, {'id': 73, 'categoryId': 4, 'artifactId': 5, 'entryNumber': 13, 'text': 'This data proves a theory I had that the written form of the Guardians’ language is based around glyphs, with each glyph representing a single word. Once I’ve fully identified these, the process of separating tonal meanings should become much easier. The glyphs seem to be able to be combined to describe complex concepts, but could also communicate additional layers of meaning through the inclusion of movement. Each glyph is a symbol. They are more abstract than pictorial hieroglyphics, but its possible to identify a simplistic reference to the shape of the thing being described - for example, the glyph for ‘moon’ incorporates the waxing and waning as it would have appeared from the Guardians’ homeworld', 'created': '2017-03-19T20:59:29', 'updated': '2017-04-23T16:37:04'}, {'id': 74, 'categoryId': 4, 'artifactId': 3, 'entryNumber': 14, 'text': \"This data contains the most amazing revelation. It appears to be the key to tracing the origins of the language embedded in the glyph formats. It's almost as if their glyphs contained a form of version control that represented the glyphs' evolution, and this ha given me a glimpse into their history. These glyphs actually evolved from a form of sign language that the guardians developed when hunting. The Guardians were originally pack hunters, and this sign language functioned as a stealthy means of communication\", 'created': '2017-03-19T20:59:29', 'updated': '2017-04-23T16:37:04'}, {'id': 75, 'categoryId': 4, 'artifactId': None, 'entryNumber': 15, 'text': 'Judging from the shape and movement of these primitive glyphs, I have surmised the Guardians had tremendous dexterity and freedom of movement in their forelimbs and hands, and this has provided the first real glimpse of their physiology.', 'created': '2017-03-19T20:59:29', 'updated': '2017-04-23T16:37:04'}, {'id': 76, 'categoryId': 4, 'artifactId': 4, 'entryNumber': 16, 'text': \"The data here contains details of how the glyphs evolved into a formal form of communication, but there appears to be a conceptual gaps between speech and the glyphs. From the results of your scan, I can see that while all glyphs have a matching vocalisation, not all vocalisations have a matching glyph. Although the dictionary is still quite sparse there is evidence to suggest that particular vocalisations were for emotive terms. With this in mind, I think the Guardians' spoken language was used primarily for social bonding.\", 'created': '2017-03-19T20:59:29', 'updated': '2017-04-23T16:37:04'}, {'id': 77, 'categoryId': 4, 'artifactId': 1, 'entryNumber': 17, 'text': \"This data regards the markings on the obelisks. These were the starting point for my research into the Guardians' language as explorers documented them, so it's fitting that I've come full circle and now have a better understanding of those markings. I've already established that the written form of the Guardians' language evolved from the sign language they developed during their pre-history as pack hunters.\", 'created': '2017-03-19T20:59:29', 'updated': '2017-04-23T16:37:04'}, {'id': 78, 'categoryId': 4, 'artifactId': 6, 'entryNumber': 18, 'text': \"The data you've extracted from the delta patterns has granted me further insights - so much so that I'm confident I can establish a proper dictionary for future research. The limited understanding I've derived from their language reveals a fascinating species. Although the written glyphs share the shape and motion of the original sign language, they also evolved in response to new media, such as electronic representation. The glyphs on the obelisks and other structures provided the primary mechanism for recognising the patterns, and also gave me clues as to what the other data patterns might contain.\", 'created': '2017-03-19T20:59:29', 'updated': '2017-04-25T21:43:57'}, {'id': 79, 'categoryId': 4, 'artifactId': 2, 'entryNumber': 19, 'text': \"The data contained in this obelisk talks about the history of the Guardians' language. They started to transcribe their signs in pictorial form very early in their development - something akin to the cave paintings from humanity's early history - although it's clear that even at an early stage their communication was more sophisticated than ours. This clearly speaks of a people with high intelligence and a keen desire to share information. Even though my research has barely begun, I believe we have much to learn from this magnificent people.\", 'created': '2017-03-19T20:59:29', 'updated': '2017-04-23T16:37:04'}, {'id': 80, 'categoryId': 4, 'artifactId': 5, 'entryNumber': 20, 'text': \"This data contain information regarding the formal nature of their written communication and has reinforced what I've learnt about its use so far. As well as the obelisks, it was used for ceremonial and decorative purposes. I've also gained the impression that they found their glyphs aesthetically pleasing.\", 'created': '2017-03-19T20:59:29', 'updated': '2017-04-25T21:38:09'}, {'id': 81, 'categoryId': 4, 'artifactId': 3, 'entryNumber': 21, 'text': \"As is always the case with research of this nature, finding answers tends to raise further questions. I've found references to another form of communication in this data packet, but not one used by the Guardians, or not all of them, at least. As far as I can tell it references some kind of foe or adversary. Combined with the devastation seen at a number of sites, it indicates the Guardians may not have been the cause of their own demise.\", 'created': '2017-03-19T20:59:29', 'updated': '2017-04-23T16:37:04'}, {'id': 82, 'categoryId': 5, 'artifactId': None, 'entryNumber': 1, 'text': \"This data stream is unlike the others. More complex with a lot more layers than the others. Intriguing, this data seems to be about the Guardians technology. This is very exciting, I was hoping we would find this kind of information. The epsilon-pattern data contains a lot of information about the Guardians' science and engineering, and extracting their historical records has helped isolate some of the specifics, adding to what we know about this fascinating species.\", 'created': '2017-03-19T20:59:29', 'updated': '2017-03-19T20:59:29'}, {'id': 83, 'categoryId': 5, 'artifactId': 2, 'entryNumber': 2, 'text': 'As I have established from other data packages the guardians had the ability to manipulate genetics and active biology to achieve specific results, and it seems their healthcare revolved around this technology. As a species they were susceptible to maladies similar to those that affect us: they could get sick, develop cancers and suffer from parasites. They approached these issues from two different directions: they improved their immune systems to defend against infection, and engineered specific micro-organisms to tackle threats. If we can harness this type of technology we could effectively eradicate disease from our lives.', 'created': '2017-03-19T20:59:29', 'updated': '2017-04-23T16:37:04'}, {'id': 84, 'categoryId': 5, 'artifactId': 1, 'entryNumber': 3, 'text': 'This data will need further analysis from someone with a greater knowledge of medicine than I possess. It appears that the Guardians’ experimented with biological manipulation extending it to other creatures in their environment. These techniques were used not only to improve life for the other creatures, but also to address ecological issues, although the Guardians took great care to influence things only as much as was needed. There is a lot of data here that while I can generally understand needs a biologist to truly decipher all the information. After all I’m an engineer not a a(sic) doctor.', 'created': '2017-03-19T20:59:29', 'updated': '2017-04-23T16:37:04'}, {'id': 85, 'categoryId': 5, 'artifactId': 6, 'entryNumber': 4, 'text': \"This data details the social aspects of the Guardians Technology. Although obviously an intelligent species, it was the Guardians' social constructs that allowed them to progress so quickly. They were required to involve themselves in various socially progressive activities, from caring for the young to researching cutting-edge physics. This was facilitated by institutions, which made research data and education available to all. The development of implants and the monolith network created a kind of shared virtual workspace, and the direct brain interface allowed thoughts to be shared and manipulated. I wonder how much they could have achieved if religious strife hadn't brought about their destruction?\", 'created': '2017-03-19T20:59:29', 'updated': '2017-04-23T16:37:04'}, {'id': 86, 'categoryId': 5, 'artifactId': 4, 'entryNumber': 5, 'text': \"This data is incomplete by what we can decipher relates to the communication systems the Guardians used. As with human civilisation, communication systems were key to establishing a stable society. In many respects, the technology the Guardians used was the same as ours, in that they utilised various electro-magnetic wavelengths and physical optical mediums. I suspect their faster-than-light technology shared the same principles as our own, too, although I haven't extracted enough technical data to be certain\", 'created': '2017-03-19T20:59:29', 'updated': '2017-04-23T16:37:04'}, {'id': 87, 'categoryId': 5, 'artifactId': 5, 'entryNumber': 6, 'text': \"This data gives some more information about the monolith network - the imposing structures explorers have discovered at various Guardian sites - served as a foundation for all their communication systems. It's clear, however, that the monoliths had ceremonial significance as well as being functional, so I mustn't underestimate their importance\", 'created': '2017-03-19T20:59:29', 'updated': '2017-04-23T16:37:04'}, {'id': 88, 'categoryId': 5, 'artifactId': None, 'entryNumber': 7, 'text': \"This is very interesting. According to the data package you just sent me they monolith network was used for most if not all communications regardless of importance. In keeping with their predilection for sharing knowledge, few restrictions were placed on the network. I thought there might have been separate networks for military and administrative use, but I haven't found any evidence of that. Everything points to an extremely open society, which would have made them even more vulnerable when significant social divisions arose.\", 'created': '2017-03-19T20:59:29', 'updated': '2017-03-19T20:59:29'}, {'id': 89, 'categoryId': 5, 'artifactId': 2, 'entryNumber': 8, 'text': 'Now I understand. This was the missing piece. The monolith network was augmented by vehicle-based communication systems, personal devices and even implants. These were designed to operate seamlessly with the network to provide ad-hoc coverage. Having implants that you can direct communications to you directly would revolutionise communications as we know it. I can only speculate what this would have felt like, but it might have even gone as far as a technological telepathy of sorts.', 'created': '2017-03-19T20:59:29', 'updated': '2017-04-23T16:37:04'}, {'id': 90, 'categoryId': 5, 'artifactId': 1, 'entryNumber': 9, 'text': \"This data, while unremarkable at first glance has proven something that I long suspected to be true. The networks were content agnostic, and the full range of language forms was supported. I've even found extracts of virtual entertainment experiences that supported full audience participation\", 'created': '2017-03-19T20:59:29', 'updated': '2017-04-23T16:37:04'}, {'id': 91, 'categoryId': 5, 'artifactId': 6, 'entryNumber': 10, 'text': 'This data is only partially intact but I have been able to decode the following information. For a species that experienced only brief periods of war, the Guardians developed very sophisticated means of waging it, although their arsenal was nowhere near as varied as ours. In terms of flight and small-class spaceships, humanity has surpassed the Guardians, but in other respects their technology outmatched ours.', 'created': '2017-03-19T20:59:29', 'updated': '2017-04-23T16:37:04'}, {'id': 92, 'categoryId': 5, 'artifactId': 4, 'entryNumber': 11, 'text': \"Once area I was unsure about until now was whether the Guardians used their abilities in genetic and biological manipulation to advance their technology and weapons. While some might argue that our technology is equal to the Guardians', I would counter that their integration of such technology at a societal level gave them a greater knowledge of its application. As well as biological warfare agents, they also created creatures expressly for use in battle, and these remained effective even into the modern era.\", 'created': '2017-03-19T20:59:29', 'updated': '2017-04-23T16:37:04'}, {'id': 93, 'categoryId': 5, 'artifactId': 3, 'entryNumber': 12, 'text': \"This data you have collected contains details of weaponry the Guardians developed. The guardians' projectile weapons utilised electro-magnetic propulsion, much like their space technology. Such weapons were manufactured in a range of scaled, from personal weapons to capital-ship class. Generally the Guardians used kinetic energy in combat, and explosives were rarely deployed. Nuclear fission and fusion were developed during the Guardians' astro-expansion period, but when it came to large-scale destructive weaponry they relied on bespoke biological weapons. Predictably, these were of little use against the AIs.\", 'created': '2017-03-19T20:59:29', 'updated': '2017-04-23T16:37:04'}, {'id': 94, 'categoryId': 5, 'artifactId': 3, 'entryNumber': 13, 'text': 'This data contains details of shield technology. The Guardians developed powerful shields that were far in advance of our own. Whole cities were protected by huge shields able to resist even bombardment from space, at least for a time, although these defences were ultimately overwhelmed during the second civil war', 'created': '2017-03-19T20:59:29', 'updated': '2017-04-23T16:37:04'}, {'id': 95, 'categoryId': 5, 'artifactId': None, 'entryNumber': 14, 'text': 'This data makes up a group of entries regarding the Guardians military. For most of their history the Guardians made use of small forces that combined the roles of military and police. These forces were comprised of volunteers, whose conscription was part of a tacit social contract. In times of war these forces could be expanded rapidly, as most of the adult population had already received basic training.', 'created': '2017-03-19T20:59:29', 'updated': '2017-03-19T20:59:29'}, {'id': 96, 'categoryId': 5, 'artifactId': 2, 'entryNumber': 15, 'text': 'This data makes up a group of entries regarding the Guardians military. From a military perspective the Guardians had an obvious weakness. Most of their history was peaceful, meaning there was no institutional knowledge or experience of combat. Consequently, tactics and strategy were for the most part theoretical. This, combined with various other factors, resulted in a devastating number of casualties during the second civil war.', 'created': '2017-03-19T20:59:29', 'updated': '2017-04-23T16:37:04'}, {'id': 97, 'categoryId': 5, 'artifactId': 1, 'entryNumber': 16, 'text': \"This data contains some details regarding AI in the Guardians society. The rise of the artificial intelligence almost elevated the Guardians' society to a whole new level. There are parallels between the Guardians' experience of machine sentience and our own, but as with other aspects of their society, the key difference was the way AIs were socially integrated in to the Guardians' lives. If this process had not been hindered by the rise of the religious abolitionist movement, I believe a technological symbiosis and utopia could have been achieved, but alas id was not to be.\", 'created': '2017-03-19T20:59:29', 'updated': '2017-04-23T16:37:04'}, {'id': 98, 'categoryId': 5, 'artifactId': 6, 'entryNumber': 17, 'text': \"This data gives details of the Guardians research into computer techonolgies. The Guardians' computer hardware operated on the same principles as our own. Their engineering was more sophisticated, but even to a layperson such as myself if it comprehensible. They experimented with organic computers, but ultimately these failed to meet expectations, except in a few areas such as bio-monitoring. Even then, genetically modified organisms usually performed better.\", 'created': '2017-03-19T20:59:29', 'updated': '2017-04-25T20:56:10'}, {'id': 99, 'categoryId': 5, 'artifactId': 4, 'entryNumber': 18, 'text': \"This data contains some details regarding AI in the Guardians society. What really sets the Guardians apart from humanity, technologically, was the way they embraced neutral implantation and artificial intelligence. Not only did the implants enhance one's mental capacity, they also provided one with a direct connection to the monolith network and the fledgling AIs. It was this symbiosis that fuelled the rapid advancement of technology during this era, but unfortunately this same advancement also resulted in the ultimate destruction of their species.\", 'created': '2017-03-19T20:59:29', 'updated': '2017-04-25T20:48:11'}, {'id': 100, 'categoryId': 5, 'artifactId': 5, 'entryNumber': 19, 'text': \"This data contains some details regarding AI in the Guardians' society. The early AIs were designed with two goals in mind. The first was to augment the abilities of the Guardian operators who were responsible for managing the monolith network and interaction with the AIs - a goal they achieved. The development of shared thought-space technology and neural networking gave their civilisation an unprecedented intellectual boost. The second was for the AIs to actually drive their own development, which they also achieved. The first few generations of AI relied heavily on the monolith network, but they soon evolved into a more distributed model by storing their consciousness within the implants.\", 'created': '2017-03-19T20:59:29', 'updated': '2017-04-23T16:37:04'}, {'id': 101, 'categoryId': 5, 'artifactId': 3, 'entryNumber': 20, 'text': \"This data contains some details regarding AI in the Guardians society. At this stage, social engineering was being used to ensure the AIs adhered to the same user model as their progenitors. But during the first civil war, most implanted Guardians were exiled, and the AIs recognised their vulnerability. They responded by developing their own operational hardware, independent of implanted Guardian users. Frustratingly, the details of these mechanisms have been purged from the record, possibly by the religious extremists who formed the last of the Guardians' species.\", 'created': '2017-03-19T20:59:29', 'updated': '2017-04-25T21:57:52'}]\n",
      "{1, 2, 3, 4, 5, 6, 7, 8, 9, 10, 11, 12, 13, 14, 15, 16, 17, 18, 19, 20, 21, 22, 23, 24, 25, 26, 27, 28, 29, 30, 31, 32, 33, 34, 35, 36, 37, 38, 39, 40, 41, 42, 43, 44, 45, 46, 47, 48, 49, 50, 51, 52, 53, 54, 55, 56, 57, 58, 59, 60, 61, 62, 63, 64, 65, 66, 67, 68, 69, 70, 71, 72, 73, 74, 75, 76, 77, 78, 79, 80, 81, 82, 83, 84, 85, 86, 87, 88, 89, 90, 91, 92, 93, 94, 95, 96, 97, 98, 99, 100, 101}\n"
     ]
    }
   ],
   "source": [
    "print(codex_data)\n",
    "all_codex_data = set([x['id'] for x in codex_data])\n",
    "print(all_codex_data)"
   ]
  },
  {
   "cell_type": "code",
   "execution_count": 15,
   "metadata": {},
   "outputs": [
    {
     "name": "stdout",
     "output_type": "stream",
     "text": [
      "{1, 2, 3, 4, 5, 6, 7, 8, 9, 10, 11, 12, 13, 14, 16, 20, 21, 22, 23, 24, 25, 26, 27, 28, 29, 30, 31, 32, 34, 35, 38, 39, 40, 41, 42, 43, 44, 45, 46, 47, 48, 49, 50, 51, 52, 53, 54, 55, 57, 58, 60, 61, 62, 63, 64, 65, 66, 67, 68, 69, 70, 71, 72, 73, 74, 75, 76, 77, 79, 80, 81, 82, 83, 84, 85, 86, 87, 88, 89, 90, 91, 92, 93, 94, 96, 98}\n"
     ]
    }
   ],
   "source": [
    "ob15 = get_obelisk_group_codex_data(15)\n",
    "print (all_codex_data - set(ob15))"
   ]
  },
  {
   "cell_type": "code",
   "execution_count": null,
   "metadata": {
    "collapsed": true
   },
   "outputs": [],
   "source": []
  }
 ],
 "metadata": {
  "kernelspec": {
   "display_name": "Python 3",
   "language": "python",
   "name": "python3"
  },
  "language_info": {
   "codemirror_mode": {
    "name": "ipython",
    "version": 3
   },
   "file_extension": ".py",
   "mimetype": "text/x-python",
   "name": "python",
   "nbconvert_exporter": "python",
   "pygments_lexer": "ipython3",
   "version": "3.6.2"
  }
 },
 "nbformat": 4,
 "nbformat_minor": 2
}
